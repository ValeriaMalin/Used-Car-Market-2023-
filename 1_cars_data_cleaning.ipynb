{
 "cells": [
  {
   "cell_type": "markdown",
   "id": "f7c9cec4",
   "metadata": {},
   "source": [
    "## Cleaning data of dataset Auto market 2023"
   ]
  },
  {
   "cell_type": "markdown",
   "id": "1ef9317d",
   "metadata": {},
   "source": [
    "### The dataset was downloaded from kaggle: https://www.kaggle.com/datasets/wspirat/germany-used-cars-dataset-2023/discussion?sort=hotness \n"
   ]
  },
  {
   "cell_type": "markdown",
   "id": "9a5217f4",
   "metadata": {},
   "source": [
    "### About Dataset\n",
    "Description:\n",
    "Collection of car offers from one of Germany's largest car sales websites, AutoScout24. This scraped dataset contains a wide range of information about car offers, covering a cars manufactured from 1995 to 2023.\n",
    "\n",
    "Features:\n",
    "\n",
    "Brand: The brand or manufacturer of the car.\n",
    "Model: The specific model of the car.\n",
    "Color: The color of the car's exterior.\n",
    "Registration Date: The date when the car was registered (Month/Year).\n",
    "Year of Production: The year in which the car was manufactured.\n",
    "Price in Euro: The price of the car in Euros.\n",
    "Power: The power of the car in kilowatts (kW) and horsepower (ps).\n",
    "Transmission Type: The type of transmission (e.g., automatic, manual).\n",
    "Fuel Type: The type of fuel the car requires.\n",
    "Fuel Consumption: Information about the car's fuel consumption in L/100km ang g/km.\n",
    "Mileage: The total distance traveled by the car in km.\n",
    "Offer Description: Additional description provided in the car offer.\n"
   ]
  },
  {
   "cell_type": "code",
   "execution_count": 62,
   "id": "cc455b36",
   "metadata": {},
   "outputs": [],
   "source": [
    "#Importing the necessary libraries:\n",
    "import pandas as pd\n",
    "import seaborn as sns\n",
    "import matplotlib.pyplot as plt\n",
    "import matplotlib \n",
    "import numpy as np\n",
    "from datetime import datetime\n",
    "import scipy.stats as stats\n",
    "\n",
    "%matplotlib inline\n"
   ]
  },
  {
   "cell_type": "code",
   "execution_count": 85,
   "id": "c09d70a2",
   "metadata": {},
   "outputs": [
    {
     "name": "stdout",
     "output_type": "stream",
     "text": [
      "<class 'pandas.core.frame.DataFrame'>\n",
      "Index: 251079 entries, 0 to 251078\n",
      "Data columns (total 14 columns):\n",
      " #   Column                    Non-Null Count   Dtype  \n",
      "---  ------                    --------------   -----  \n",
      " 0   brand                     251079 non-null  object \n",
      " 1   model                     251079 non-null  object \n",
      " 2   color                     250913 non-null  object \n",
      " 3   registration_date         251075 non-null  object \n",
      " 4   year                      251079 non-null  object \n",
      " 5   price_in_euro             251079 non-null  object \n",
      " 6   power_kw                  250945 non-null  object \n",
      " 7   power_ps                  250950 non-null  object \n",
      " 8   transmission_type         251079 non-null  object \n",
      " 9   fuel_type                 251079 non-null  object \n",
      " 10  fuel_consumption_l_100km  224206 non-null  object \n",
      " 11  fuel_consumption_g_km     251079 non-null  object \n",
      " 12  mileage_in_km             250927 non-null  float64\n",
      " 13  offer_description         251078 non-null  object \n",
      "dtypes: float64(1), object(13)\n",
      "memory usage: 28.7+ MB\n",
      "We can see a lot of type object for some variables , which could be integers and floats\n"
     ]
    }
   ],
   "source": [
    "df = pd.read_csv(\"./Downloads/data_auto_2023.csv\", index_col=0)\n",
    "\n",
    "df.info()\n",
    "\n",
    "print('We can see a lot of type object for some variables , which could be integers and floats')"
   ]
  },
  {
   "cell_type": "code",
   "execution_count": 86,
   "id": "eee42d81",
   "metadata": {},
   "outputs": [
    {
     "data": {
      "text/html": [
       "<div>\n",
       "<style scoped>\n",
       "    .dataframe tbody tr th:only-of-type {\n",
       "        vertical-align: middle;\n",
       "    }\n",
       "\n",
       "    .dataframe tbody tr th {\n",
       "        vertical-align: top;\n",
       "    }\n",
       "\n",
       "    .dataframe thead th {\n",
       "        text-align: right;\n",
       "    }\n",
       "</style>\n",
       "<table border=\"1\" class=\"dataframe\">\n",
       "  <thead>\n",
       "    <tr style=\"text-align: right;\">\n",
       "      <th></th>\n",
       "      <th>brand</th>\n",
       "      <th>model</th>\n",
       "      <th>color</th>\n",
       "      <th>registration_date</th>\n",
       "      <th>year</th>\n",
       "      <th>price_in_euro</th>\n",
       "      <th>power_kw</th>\n",
       "      <th>power_ps</th>\n",
       "      <th>transmission_type</th>\n",
       "      <th>fuel_type</th>\n",
       "      <th>fuel_consumption_l_100km</th>\n",
       "      <th>fuel_consumption_g_km</th>\n",
       "      <th>mileage_in_km</th>\n",
       "      <th>offer_description</th>\n",
       "    </tr>\n",
       "  </thead>\n",
       "  <tbody>\n",
       "    <tr>\n",
       "      <th>0</th>\n",
       "      <td>alfa-romeo</td>\n",
       "      <td>Alfa Romeo GTV</td>\n",
       "      <td>red</td>\n",
       "      <td>10/1995</td>\n",
       "      <td>1995</td>\n",
       "      <td>1300</td>\n",
       "      <td>148</td>\n",
       "      <td>201</td>\n",
       "      <td>Manual</td>\n",
       "      <td>Petrol</td>\n",
       "      <td>10,9 l/100 km</td>\n",
       "      <td>260 g/km</td>\n",
       "      <td>160500.0</td>\n",
       "      <td>2.0 V6 TB</td>\n",
       "    </tr>\n",
       "    <tr>\n",
       "      <th>1</th>\n",
       "      <td>alfa-romeo</td>\n",
       "      <td>Alfa Romeo 164</td>\n",
       "      <td>black</td>\n",
       "      <td>02/1995</td>\n",
       "      <td>1995</td>\n",
       "      <td>24900</td>\n",
       "      <td>191</td>\n",
       "      <td>260</td>\n",
       "      <td>Manual</td>\n",
       "      <td>Petrol</td>\n",
       "      <td>NaN</td>\n",
       "      <td>- (g/km)</td>\n",
       "      <td>190000.0</td>\n",
       "      <td>Q4 Allrad, 3.2L GTA</td>\n",
       "    </tr>\n",
       "    <tr>\n",
       "      <th>2</th>\n",
       "      <td>alfa-romeo</td>\n",
       "      <td>Alfa Romeo Spider</td>\n",
       "      <td>black</td>\n",
       "      <td>02/1995</td>\n",
       "      <td>1995</td>\n",
       "      <td>5900</td>\n",
       "      <td>110</td>\n",
       "      <td>150</td>\n",
       "      <td>Unknown</td>\n",
       "      <td>Petrol</td>\n",
       "      <td>NaN</td>\n",
       "      <td>- (g/km)</td>\n",
       "      <td>129000.0</td>\n",
       "      <td>ALFA ROME 916</td>\n",
       "    </tr>\n",
       "    <tr>\n",
       "      <th>3</th>\n",
       "      <td>alfa-romeo</td>\n",
       "      <td>Alfa Romeo Spider</td>\n",
       "      <td>black</td>\n",
       "      <td>07/1995</td>\n",
       "      <td>1995</td>\n",
       "      <td>4900</td>\n",
       "      <td>110</td>\n",
       "      <td>150</td>\n",
       "      <td>Manual</td>\n",
       "      <td>Petrol</td>\n",
       "      <td>9,5 l/100 km</td>\n",
       "      <td>225 g/km</td>\n",
       "      <td>189500.0</td>\n",
       "      <td>2.0 16V Twin Spark L</td>\n",
       "    </tr>\n",
       "    <tr>\n",
       "      <th>4</th>\n",
       "      <td>alfa-romeo</td>\n",
       "      <td>Alfa Romeo 164</td>\n",
       "      <td>red</td>\n",
       "      <td>11/1996</td>\n",
       "      <td>1996</td>\n",
       "      <td>17950</td>\n",
       "      <td>132</td>\n",
       "      <td>179</td>\n",
       "      <td>Manual</td>\n",
       "      <td>Petrol</td>\n",
       "      <td>7,2 l/100 km</td>\n",
       "      <td>- (g/km)</td>\n",
       "      <td>96127.0</td>\n",
       "      <td>3.0i Super V6, absoluter Topzustand !</td>\n",
       "    </tr>\n",
       "    <tr>\n",
       "      <th>5</th>\n",
       "      <td>alfa-romeo</td>\n",
       "      <td>Alfa Romeo Spider</td>\n",
       "      <td>red</td>\n",
       "      <td>04/1996</td>\n",
       "      <td>1996</td>\n",
       "      <td>7900</td>\n",
       "      <td>110</td>\n",
       "      <td>150</td>\n",
       "      <td>Manual</td>\n",
       "      <td>Petrol</td>\n",
       "      <td>9,5 l/100 km</td>\n",
       "      <td>225 g/km</td>\n",
       "      <td>47307.0</td>\n",
       "      <td>2.0 16V Twin Spark</td>\n",
       "    </tr>\n",
       "  </tbody>\n",
       "</table>\n",
       "</div>"
      ],
      "text/plain": [
       "        brand              model  color registration_date  year price_in_euro  \\\n",
       "0  alfa-romeo     Alfa Romeo GTV    red           10/1995  1995          1300   \n",
       "1  alfa-romeo     Alfa Romeo 164  black           02/1995  1995         24900   \n",
       "2  alfa-romeo  Alfa Romeo Spider  black           02/1995  1995          5900   \n",
       "3  alfa-romeo  Alfa Romeo Spider  black           07/1995  1995          4900   \n",
       "4  alfa-romeo     Alfa Romeo 164    red           11/1996  1996         17950   \n",
       "5  alfa-romeo  Alfa Romeo Spider    red           04/1996  1996          7900   \n",
       "\n",
       "  power_kw power_ps transmission_type fuel_type fuel_consumption_l_100km  \\\n",
       "0      148      201            Manual    Petrol            10,9 l/100 km   \n",
       "1      191      260            Manual    Petrol                      NaN   \n",
       "2      110      150           Unknown    Petrol                      NaN   \n",
       "3      110      150            Manual    Petrol             9,5 l/100 km   \n",
       "4      132      179            Manual    Petrol             7,2 l/100 km   \n",
       "5      110      150            Manual    Petrol             9,5 l/100 km   \n",
       "\n",
       "  fuel_consumption_g_km  mileage_in_km                      offer_description  \n",
       "0              260 g/km       160500.0                              2.0 V6 TB  \n",
       "1              - (g/km)       190000.0                    Q4 Allrad, 3.2L GTA  \n",
       "2              - (g/km)       129000.0                          ALFA ROME 916  \n",
       "3              225 g/km       189500.0                   2.0 16V Twin Spark L  \n",
       "4              - (g/km)        96127.0  3.0i Super V6, absoluter Topzustand !  \n",
       "5              225 g/km        47307.0                     2.0 16V Twin Spark  "
      ]
     },
     "execution_count": 86,
     "metadata": {},
     "output_type": "execute_result"
    }
   ],
   "source": [
    "df.head(6)"
   ]
  },
  {
   "cell_type": "code",
   "execution_count": 87,
   "id": "ae88d4e2",
   "metadata": {},
   "outputs": [
    {
     "name": "stdout",
     "output_type": "stream",
     "text": [
      "Number of duplicated rows: 6353\n"
     ]
    }
   ],
   "source": [
    "#duplicated rows?\n",
    "n_rows_duplicated = df.duplicated().sum()\n",
    "\n",
    "print(\"Number of duplicated rows:\", n_rows_duplicated)\n",
    "df.drop_duplicates(inplace=True)"
   ]
  },
  {
   "cell_type": "markdown",
   "id": "b17bbc67",
   "metadata": {},
   "source": [
    "### I have to change the types of some variables:"
   ]
  },
  {
   "cell_type": "code",
   "execution_count": 88,
   "id": "6c4103e0",
   "metadata": {},
   "outputs": [
    {
     "data": {
      "text/plain": [
       "array([ 1300., 24900.,  5900., ..., 81350., 89690., 61521.])"
      ]
     },
     "execution_count": 88,
     "metadata": {},
     "output_type": "execute_result"
    }
   ],
   "source": [
    "df['price_in_euro'] = pd.to_numeric(df['price_in_euro'], errors='coerce')\n",
    "df['price_in_euro'].unique()"
   ]
  },
  {
   "cell_type": "code",
   "execution_count": 89,
   "id": "2309f73c",
   "metadata": {},
   "outputs": [
    {
     "name": "stdout",
     "output_type": "stream",
     "text": [
      "<class 'pandas.core.frame.DataFrame'>\n",
      "Index: 244726 entries, 0 to 251078\n",
      "Data columns (total 14 columns):\n",
      " #   Column                    Non-Null Count   Dtype  \n",
      "---  ------                    --------------   -----  \n",
      " 0   brand                     244726 non-null  object \n",
      " 1   model                     244726 non-null  object \n",
      " 2   color                     244642 non-null  object \n",
      " 3   registration_date         244722 non-null  object \n",
      " 4   year                      244546 non-null  float64\n",
      " 5   price_in_euro             244542 non-null  float64\n",
      " 6   power_kw                  244593 non-null  object \n",
      " 7   power_ps                  244519 non-null  float64\n",
      " 8   transmission_type         244726 non-null  object \n",
      " 9   fuel_type                 244726 non-null  object \n",
      " 10  fuel_consumption_l_100km  218134 non-null  object \n",
      " 11  fuel_consumption_g_km     244726 non-null  object \n",
      " 12  mileage_in_km             244585 non-null  float64\n",
      " 13  offer_description         244725 non-null  object \n",
      "dtypes: float64(4), object(10)\n",
      "memory usage: 28.0+ MB\n"
     ]
    }
   ],
   "source": [
    "df['power_ps'] = pd.to_numeric(df['power_ps'], errors='coerce')\n",
    "df['year'] = pd.to_numeric(df['year'], errors='coerce')\n",
    "\n",
    "\n",
    "df.info()"
   ]
  },
  {
   "cell_type": "code",
   "execution_count": 90,
   "id": "18d96768",
   "metadata": {},
   "outputs": [
    {
     "data": {
      "text/plain": [
       "array(['10,9 l/100 km', nan, '9,5 l/100 km', '7,2 l/100 km',\n",
       "       '8,8 l/100 km', '13,4 l/100 km', '11 l/100 km', '9,2 l/100 km',\n",
       "       '11,1 l/100 km', '11,7 l/100 km', '8,4 l/100 km', '8,2 l/100 km',\n",
       "       '8,9 l/100 km', '11,4 l/100 km', '8,5 l/100 km', '8,3 l/100 km',\n",
       "       '7,9 l/100 km', '8,7 l/100 km', '8,1 l/100 km', '12,2 l/100 km',\n",
       "       '12 l/100 km', '5,8 l/100 km', '10 l/100 km', '6,7 l/100 km',\n",
       "       '8,6 l/100 km', '12,5 l/100 km', '9,7 l/100 km', '12,1 l/100 km',\n",
       "       '8 l/100 km', '7,5 l/100 km', '6,2 l/100 km', '13,2 l/100 km',\n",
       "       '6 l/100 km', '12,4 l/100 km', '6,8 l/100 km', '9,4 l/100 km',\n",
       "       '6,1 l/100 km', '5,9 l/100 km', '11,5 l/100 km', '11,6 l/100 km',\n",
       "       '7,6 l/100 km', '5,2 l/100 km', '7,1 l/100 km', '6,9 l/100 km',\n",
       "       '12,3 l/100 km', '6,5 l/100 km', '7,7 l/100 km', '4,6 l/100 km',\n",
       "       '4,8 l/100 km', '4,5 l/100 km', '5,3 l/100 km', '6,4 l/100 km',\n",
       "       '4,9 l/100 km', '6,6 l/100 km', '5,5 l/100 km', '5,4 l/100 km',\n",
       "       '5,6 l/100 km', '16,8 l/100 km', '5,7 l/100 km', '3,5 l/100 km',\n",
       "       '4,4 l/100 km', '4,7 l/100 km', '4 l/100 km', '4,2 l/100 km',\n",
       "       '- (l/100 km)', '7 l/100 km', '4,3 l/100 km', '5,1 l/100 km',\n",
       "       '3,4 l/100 km', '3,9 l/100 km', '3,8 l/100 km', '9 l/100 km',\n",
       "       '9,8 l/100 km', '10,3 l/100 km', '7,4 l/100 km', '7,8 l/100 km',\n",
       "       '6,3 l/100 km', '10,1 l/100 km', '5 l/100 km', '9,3 l/100 km',\n",
       "       '7,3 l/100 km', '10,8 l/100 km', '0 l/100 km', '11,8 l/100 km',\n",
       "       '1,3 l/100 km', '1,4 l/100 km', '9,1 l/100 km', '9,6 l/100 km',\n",
       "       '10,2 l/100 km', '1,5 l/100 km', '12,7 l/100 km', '16,5 l/100 km',\n",
       "       '14,7 l/100 km', '16,7 l/100 km', '18,8 l/100 km', '14,6 l/100 km',\n",
       "       '17,8 l/100 km', '17,2 l/100 km', '18,9 l/100 km', '15 l/100 km',\n",
       "       '13,8 l/100 km', '18,7 l/100 km', '16,4 l/100 km', '15,6 l/100 km',\n",
       "       '18,2 l/100 km', '18 l/100 km', '14 l/100 km', '14,9 l/100 km',\n",
       "       '13,9 l/100 km', '15,5 l/100 km', '12,6 l/100 km', '14,4 l/100 km',\n",
       "       '12,9 l/100 km', '14,3 l/100 km', '17 l/100 km', '12,8 l/100 km',\n",
       "       '13,1 l/100 km', '9,9 l/100 km', '10,5 l/100 km', '14,2 l/100 km',\n",
       "       '13,5 l/100 km', '10,6 l/100 km', '16,9 l/100 km', '11,2 l/100 km',\n",
       "       '10,7 l/100 km', '11,3 l/100 km', '19,9 l/100 km', '10,4 l/100 km',\n",
       "       '13,7 l/100 km', '11,9 l/100 km', '3,2 l/100 km', '14,5 l/100 km',\n",
       "       '187 g/km', '14,8 l/100 km', '13,3 l/100 km', 'Petrol',\n",
       "       '13 l/100 km', '13,6 l/100 km', '4,1 l/100 km', '3,7 l/100 km',\n",
       "       '3,3 l/100 km', '128 g/km', '5 kg/100 km', '1,7 l/100 km',\n",
       "       '1,9 l/100 km', '4,6 kg/100 km', '3,6 l/100 km', '3,6 kg/100 km',\n",
       "       '5,4 kg/100 km', '119 g/km', '1,8 l/100 km', '6 kg/100 km',\n",
       "       '1,6 l/100 km', '2017', '6,2 kg/100 km', '6,3 kg/100 km',\n",
       "       '3,9 kg/100 km', '5,5 kg/100 km', '6,4 kg/100 km', '5,2 kg/100 km',\n",
       "       '1 l/100 km', '5,7 kg/100 km', '6,5 kg/100 km', '2,1 l/100 km',\n",
       "       '2,2 l/100 km', '159 g/km', '2,4 l/100 km', '4,4 kg/100 km',\n",
       "       '6,1 kg/100 km', '4,8 kg/100 km', '2 l/100 km', '3 l/100 km',\n",
       "       '430 km (Ort)', '50 km (Ort)', '3,5 kg/100 km', '21,2 l/100 km',\n",
       "       '4,5 kg/100 km', '2,7 l/100 km', '2,6 l/100 km', '19,4 l/100 km',\n",
       "       '455 km (Ort)', '599 km (Ort)', '0 kWh/100 km', '0,4 l/100 km',\n",
       "       '415 km Reichweite', '19,2 l/100 km', '20,6 l/100 km',\n",
       "       '16,6 l/100 km', '17,1 l/100 km', '19,5 l/100 km', '17,7 l/100 km',\n",
       "       '16,3 l/100 km', '15,9 l/100 km', '14,1 l/100 km', '141 l/100 km',\n",
       "       '15,7 l/100 km', '16,2 l/100 km', '9,1 kg/100 km', '2003',\n",
       "       'Diesel', 'Manual', '15,2 l/100 km', '- (g/km)', '99 l/100 km',\n",
       "       '110 km (Ort)', '140 g/km', '161 g/km', '0,6 l/100 km', '193 g/km',\n",
       "       '2,8 l/100 km', '346 km (Ort)', '420 km (Ort)', '423 km (Ort)',\n",
       "       '392 km (Ort)', '395 km (Ort)', '402 km (Ort)', '399 km (Ort)',\n",
       "       '410 km (Ort)', '1,2 l/100 km', '403 km (Ort)', '424 km (Ort)',\n",
       "       '2,5 l/100 km', '2,3 l/100 km', '400 km (Ort)', '393 km (Ort)',\n",
       "       '416 km (Ort)', '398 km (Ort)', '363 km (Ort)', '421 km (Ort)',\n",
       "       '59 km (Ort)', '413 km (Ort)', '425 km (Ort)', '564 km (Ort)',\n",
       "       '212 kWh/100 km', '397 km (Ort)', '600 km (Ort)', '571 km (Ort)',\n",
       "       '411 km (Ort)', '19,3 kWh/100 km', '60 km (Ort)', '561 km (Ort)',\n",
       "       '224 kWh/100 km', '66,4 l/100 km', '669 km (Ort)',\n",
       "       '19,1 kWh/100 km', '563 km (Ort)', '567 km (Ort)', '678 km (Ort)',\n",
       "       '462 km (Ort)', '497 km (Ort)', '461 km (Ort)', '642 km (Ort)',\n",
       "       '19 l/100 km', '106 km (Ort)', '662 km (Ort)', '510 km (Ort)',\n",
       "       '607 km (Ort)', '73 l/100 km', '521 km (Ort)', '483 km (Ort)',\n",
       "       '165 kWh/100 km', '2006', '38 l/100 km', '3,1 l/100 km',\n",
       "       '45 l/100 km', '354 km (Ort)', '486 km (Ort)', '350 km (Ort)',\n",
       "       '279 km (Ort)', '69 km (Ort)', '156 g/km', '5,3 kg/100 km',\n",
       "       '62 l/100 km', '305 km (Ort)', '230 km (Ort)', '8,4 kg/100 km',\n",
       "       '8,3 kg/100 km', '4,9 kg/100 km', '137 g/km', '8,8 kg/100 km',\n",
       "       '15,3 l/100 km', '21 l/100 km', '14,9 kg/100 km', '14,7 kg/100 km',\n",
       "       '22,2 l/100 km', '22,9 l/100 km', '20,8 l/100 km', '17,9 l/100 km',\n",
       "       '19,1 l/100 km', '21,8 l/100 km', '20,7 l/100 km', '18,3 l/100 km',\n",
       "       '21,3 l/100 km', '17,5 l/100 km', '16,1 l/100 km', '15,1 l/100 km',\n",
       "       '5,6 kg/100 km', '6,8 kg/100 km', '180 g/km', '5,9 kg/100 km',\n",
       "       '7,4 kg/100 km', '460 km (Ort)', '447 km (Ort)', '14,3 kWh/100 km',\n",
       "       '06/2022', '438 km (Ort)', '320 km (Ort)', '13 kWh/100 km',\n",
       "       '257 km (Ort)', '117 g/km', '181 g/km', '88 l/100 km',\n",
       "       '7,3 kg/100 km', '65 l/100 km', '121 g/km', '66 l/100 km',\n",
       "       '4.300 l/100 km', '15,8 l/100 km', '99 g/km', '03/2017',\n",
       "       '22 l/100 km', '184 g/km', '99,9 l/100 km', '85,4 l/100 km',\n",
       "       '134 g/km', '2,9 l/100 km', '45 km (Ort)', '08/2020',\n",
       "       '480 km (Ort)', '2020', '2021', '588 km (Ort)', '71 km (Ort)',\n",
       "       '540 km (Ort)', '44 km (Ort)', '31 g/km', '1,1 l/100 km',\n",
       "       '75 km (Ort)', '739 km (Ort)', '119 l/100 km', '42 km (Ort)',\n",
       "       '2023', '17,8 kWh/100 km', '210 km (Ort)', '51,8 l/100 km',\n",
       "       '41 l/100 km', '1 kg/100 km', '1,2 kg/100 km', '640 km (Ort)',\n",
       "       '249 km (Ort)', '15,4 kWh/100 km', '0,8 kg/100 km',\n",
       "       '0,9 kg/100 km', '14,7 kWh/100 km', '435 km (Ort)', '550 km (Ort)',\n",
       "       '1 km (Ort)', '407 km (Ort)', '646 km (Ort)', '62 km (Ort)',\n",
       "       '74 km (Ort)', '660 km (Ort)', '125 g/km', '66 km (Ort)',\n",
       "       '154 g/km', '658 km (Ort)', '53 l/100 km', '22 kWh/100 km',\n",
       "       '594 km (Ort)', '55 km (Ort)', '53 km (Ort)', '52 km (Ort)',\n",
       "       '54 km (Ort)', '56 km (Ort)', '138 g/km', '88 g/km', '2019',\n",
       "       '58 km (Ort)', '464 km (Ort)', '300 km (Ort)', '687 km (Ort)',\n",
       "       '578 km (Ort)', '12,6 kWh/100 km', '57 km (Ort)', '76 km (Ort)',\n",
       "       '20,6 kWh/100 km', '630 km (Ort)', '136 g/km', '500 km (Ort)',\n",
       "       '0,8 l/100 km', '604 km (Ort)', '506 km (Ort)', '60 l/100 km',\n",
       "       '52 l/100 km', '21,5 l/100 km', '16 l/100 km', '19,6 l/100 km',\n",
       "       '20,1 l/100 km', '18,4 l/100 km', '31,4 l/100 km', '0,9 l/100 km',\n",
       "       '68 km (Ort)', '18,1 l/100 km', '18,6 l/100 km', '21,9 l/100 km',\n",
       "       '262 km (Ort)', '15,4 l/100 km', '262 g/km', '9,3 kg/100 km',\n",
       "       '7,5 kg/100 km', '13,3 kg/100 km', '2010', '7,8 kg/100 km',\n",
       "       '12/2011', '0 kg/100 km', '4,2 kg/100 km', '13,1 kg/100 km',\n",
       "       '192 g/km', '2015', '2016', '169 g/km', '12/2018', '2018',\n",
       "       '48 km (Ort)', '0,1 l/100 km', '458 km (Ort)', '690 km (Ort)',\n",
       "       '0,7 l/100 km', '0,5 l/100 km', '495 km (Ort)', '603 km (Ort)',\n",
       "       '597 km (Ort)', '34 km (Ort)', '301 km (Ort)', '307 km (Ort)',\n",
       "       '304 km (Ort)', '303 km (Ort)', '295 km (Ort)', '310 km (Ort)',\n",
       "       '308 km (Ort)', '294 km (Ort)', '259 km (Ort)', '234 km (Ort)',\n",
       "       '309 km (Ort)', '152 l/100 km', '61 km (Ort)', '98,4 l/100 km',\n",
       "       '120 km (Ort)', '389 km (Ort)', '528 km (Ort)', '05/2020',\n",
       "       '533 km (Ort)', '04/2022', '450 km (Ort)', '523 km (Ort)',\n",
       "       '573 km (Ort)', '531 km (Ort)', '105 g/km', '8,1 kg/100 km',\n",
       "       '7,6 kg/100 km', '179 g/km', '7,7 kg/100 km', '5,1 kg/100 km',\n",
       "       '135 g/km', '145 g/km', '4,7 kg/100 km', '2013', '92 g/km',\n",
       "       '7,2 kg/100 km', '337 km (Ort)', '15,8 kWh/100 km', '330 km (Ort)',\n",
       "       '59 l/100 km', '17,7 kWh/100 km', '57 l/100 km', '17,5 kWh/100 km',\n",
       "       '15,5 kWh/100 km', '73 km (Ort)', '496 km (Ort)', '70 km (Ort)',\n",
       "       '344 km (Ort)', '2022', '80 km (Ort)', '18 kWh/100 km',\n",
       "       '116 l/100 km', '328 km (Ort)', '472 km (Ort)', '491 km (Ort)',\n",
       "       '493 km (Ort)', '107 l/100 km', '331 km (Ort)', '67 km (Ort)',\n",
       "       '02/2017', '10/2020', '09/2021', 'Hybrid', 'Electric',\n",
       "       '484 km (Ort)', '554 km (Ort)', '02/2022', '01/2022', '95 g/km',\n",
       "       '316 km (Ort)', '168 km (Ort)', '386 km (Ort)', '17,3 kWh/100 km',\n",
       "       '270 km (Ort)', '100 km (Ort)', '477 km (Ort)', '529 km (Ort)',\n",
       "       '433 km (Ort)', '3,7 kg/100 km', '2,9 kg/100 km', '4,3 kg/100 km',\n",
       "       '3,3 kg/100 km', '112 g/km', '3,4 kg/100 km', '3,8 kg/100 km',\n",
       "       '120 l/100 km', '08/2019', '131 l/100 km', '4 kg/100 km',\n",
       "       '147 l/100 km', '173 l/100 km', '132 l/100 km', '130 l/100 km',\n",
       "       '138 l/100 km', '134 l/100 km', '4,1 kg/100 km', '126 g/km',\n",
       "       '127 g/km', '56 l/100 km', '133 l/100 km', '123 g/km', '129 g/km',\n",
       "       '2,8 kg/100 km', '123 l/100 km', '353 km (Ort)', '125 l/100 km',\n",
       "       '7,1 kg/100 km', '14,5 kWh/100 km', '636 km (Ort)', '471 km (Ort)',\n",
       "       '122 l/100 km', '616 km (Ort)', '610 km (Ort)', 'Automatic',\n",
       "       '481 km (Ort)', '05/2022', '104 g/km', '171 l/100 km',\n",
       "       '138 km (Ort)', '163 km (Ort)', '187 km (Ort)', '177 km (Ort)',\n",
       "       '175 km (Ort)', '182 km (Ort)', '150 km (Ort)', '155 km (Ort)',\n",
       "       '16 kWh/100 km', '135 km (Ort)', '474 km (Ort)', '55 l/100 km',\n",
       "       '0,1 kg/100 km', '0 g/km', '130 g/km', '11/2020', '49 l/100 km',\n",
       "       '98 km (Ort)', '547 km (Ort)', '592 km (Ort)', '113 g/km',\n",
       "       '64 g/km', '86 g/km', '583 km (Ort)', '76 g/km', '644 km (Ort)',\n",
       "       '101 g/km', '201 g/km', '185 g/km', '30 l/100 km', '163 g/km',\n",
       "       '8,7 kg/100 km', '8,6 kg/100 km', '26 l/100 km', '2007',\n",
       "       '177 g/km', '11,2 kg/100 km', '8,9 kg/100 km', '5,8 kg/100 km',\n",
       "       '6,9 kg/100 km', '12/2009', '7 kg/100 km', '61 l/100 km',\n",
       "       '12/2014', '10,4 kg/100 km', '08/2016', '36 l/100 km', '07/2016',\n",
       "       '120 g/km', '250 km (Ort)', '231 km (Ort)', '220 km (Ort)',\n",
       "       '146 l/100 km', '358 km (Ort)', '143 l/100 km', '315 km (Ort)',\n",
       "       '0,2 l/100 km', '701 km (Ort)', '568 km (Ort)', '9 kg/100 km',\n",
       "       '49 km (Ort)', '46 km (Ort)', '51 km (Ort)', '574 km (Ort)',\n",
       "       '527 km (Ort)', '519 km (Ort)', '559 km (Ort)', '541 km (Ort)',\n",
       "       '22,6 l/100 km', '92 km (Ort)', '93 km (Ort)'], dtype=object)"
      ]
     },
     "execution_count": 90,
     "metadata": {},
     "output_type": "execute_result"
    }
   ],
   "source": [
    "df['fuel_consumption_l_100km'].unique()"
   ]
  },
  {
   "cell_type": "markdown",
   "id": "4c4a7b6c",
   "metadata": {},
   "source": [
    "## I see in the data for fuel_consumption_l_100km, is a mess, with l/100km there are kWh/100km (electric cars) and kg/100km (gas cars), this I can accept. But there are things like g/km , or km(Ort) or Petrol or Automatic, or year . This happened probably due to scraping. This has to be cleaned."
   ]
  },
  {
   "cell_type": "code",
   "execution_count": 91,
   "id": "f0451a93",
   "metadata": {},
   "outputs": [
    {
     "data": {
      "text/html": [
       "<div>\n",
       "<style scoped>\n",
       "    .dataframe tbody tr th:only-of-type {\n",
       "        vertical-align: middle;\n",
       "    }\n",
       "\n",
       "    .dataframe tbody tr th {\n",
       "        vertical-align: top;\n",
       "    }\n",
       "\n",
       "    .dataframe thead th {\n",
       "        text-align: right;\n",
       "    }\n",
       "</style>\n",
       "<table border=\"1\" class=\"dataframe\">\n",
       "  <thead>\n",
       "    <tr style=\"text-align: right;\">\n",
       "      <th></th>\n",
       "      <th>brand</th>\n",
       "      <th>model</th>\n",
       "      <th>color</th>\n",
       "      <th>registration_date</th>\n",
       "      <th>year</th>\n",
       "      <th>price_in_euro</th>\n",
       "      <th>power_kw</th>\n",
       "      <th>power_ps</th>\n",
       "      <th>transmission_type</th>\n",
       "      <th>fuel_type</th>\n",
       "      <th>fuel_consumption_l_100km</th>\n",
       "      <th>fuel_consumption_g_km</th>\n",
       "      <th>mileage_in_km</th>\n",
       "      <th>offer_description</th>\n",
       "    </tr>\n",
       "  </thead>\n",
       "  <tbody>\n",
       "    <tr>\n",
       "      <th>9864</th>\n",
       "      <td>audi</td>\n",
       "      <td>Audi A3</td>\n",
       "      <td>blue</td>\n",
       "      <td>01/2015</td>\n",
       "      <td>2015.0</td>\n",
       "      <td>20930.0</td>\n",
       "      <td>81</td>\n",
       "      <td>110.0</td>\n",
       "      <td>Automatic</td>\n",
       "      <td>CNG</td>\n",
       "      <td>5 kg/100 km</td>\n",
       "      <td>115 g/km</td>\n",
       "      <td>98674.0</td>\n",
       "      <td>1.4 TFSI g-tron S-tronic S-Line GRA</td>\n",
       "    </tr>\n",
       "    <tr>\n",
       "      <th>10844</th>\n",
       "      <td>audi</td>\n",
       "      <td>Audi A3</td>\n",
       "      <td>silver</td>\n",
       "      <td>07/2015</td>\n",
       "      <td>2015.0</td>\n",
       "      <td>17200.0</td>\n",
       "      <td>110</td>\n",
       "      <td>150.0</td>\n",
       "      <td>Automatic</td>\n",
       "      <td>CNG</td>\n",
       "      <td>4,6 kg/100 km</td>\n",
       "      <td>- (g/km)</td>\n",
       "      <td>80000.0</td>\n",
       "      <td>1.4 TFSI cylinder on demand ultra Limousine At...</td>\n",
       "    </tr>\n",
       "    <tr>\n",
       "      <th>11169</th>\n",
       "      <td>audi</td>\n",
       "      <td>Audi A3</td>\n",
       "      <td>white</td>\n",
       "      <td>03/2015</td>\n",
       "      <td>2015.0</td>\n",
       "      <td>13990.0</td>\n",
       "      <td>81</td>\n",
       "      <td>110.0</td>\n",
       "      <td>Automatic</td>\n",
       "      <td>CNG</td>\n",
       "      <td>5 kg/100 km</td>\n",
       "      <td>115 g/km</td>\n",
       "      <td>133000.0</td>\n",
       "      <td>Ambiente Sportback Erdgas CNG</td>\n",
       "    </tr>\n",
       "    <tr>\n",
       "      <th>11825</th>\n",
       "      <td>audi</td>\n",
       "      <td>Audi A3</td>\n",
       "      <td>grey</td>\n",
       "      <td>10/2016</td>\n",
       "      <td>2016.0</td>\n",
       "      <td>16950.0</td>\n",
       "      <td>81</td>\n",
       "      <td>110.0</td>\n",
       "      <td>Manual</td>\n",
       "      <td>CNG</td>\n",
       "      <td>3,6 kg/100 km</td>\n",
       "      <td>98 g/km</td>\n",
       "      <td>82880.0</td>\n",
       "      <td>1.4TFSI g-tron 2x S line/Sportback/VOLL/CNG</td>\n",
       "    </tr>\n",
       "    <tr>\n",
       "      <th>12034</th>\n",
       "      <td>audi</td>\n",
       "      <td>Audi A3</td>\n",
       "      <td>black</td>\n",
       "      <td>12/2016</td>\n",
       "      <td>2016.0</td>\n",
       "      <td>15950.0</td>\n",
       "      <td>81</td>\n",
       "      <td>110.0</td>\n",
       "      <td>Automatic</td>\n",
       "      <td>CNG</td>\n",
       "      <td>5,4 kg/100 km</td>\n",
       "      <td>128 g/km</td>\n",
       "      <td>78500.0</td>\n",
       "      <td>Sportback g-tron*AHK*Erdgas*Automatik</td>\n",
       "    </tr>\n",
       "    <tr>\n",
       "      <th>12455</th>\n",
       "      <td>audi</td>\n",
       "      <td>Audi A3</td>\n",
       "      <td>silver</td>\n",
       "      <td>10/2016</td>\n",
       "      <td>2016.0</td>\n",
       "      <td>15999.0</td>\n",
       "      <td>81</td>\n",
       "      <td>110.0</td>\n",
       "      <td>Automatic</td>\n",
       "      <td>CNG</td>\n",
       "      <td>5 kg/100 km</td>\n",
       "      <td>115 g/km</td>\n",
       "      <td>92634.0</td>\n",
       "      <td>G-tron Sportback Navi Xenon Sitzh ACC HIFI*</td>\n",
       "    </tr>\n",
       "    <tr>\n",
       "      <th>12674</th>\n",
       "      <td>audi</td>\n",
       "      <td>Audi A3</td>\n",
       "      <td>white</td>\n",
       "      <td>11/2016</td>\n",
       "      <td>2016.0</td>\n",
       "      <td>17970.0</td>\n",
       "      <td>81</td>\n",
       "      <td>110.0</td>\n",
       "      <td>Automatic</td>\n",
       "      <td>CNG</td>\n",
       "      <td>5,4 kg/100 km</td>\n",
       "      <td>123 g/km</td>\n",
       "      <td>95947.0</td>\n",
       "      <td>Sportback g-tron 1.4 TFSI Navi Pano Apple CarPlay</td>\n",
       "    </tr>\n",
       "    <tr>\n",
       "      <th>12956</th>\n",
       "      <td>audi</td>\n",
       "      <td>Audi A4</td>\n",
       "      <td>blue</td>\n",
       "      <td>12/2017</td>\n",
       "      <td>2017.0</td>\n",
       "      <td>16980.0</td>\n",
       "      <td>125</td>\n",
       "      <td>170.0</td>\n",
       "      <td>Automatic</td>\n",
       "      <td>CNG</td>\n",
       "      <td>6 kg/100 km</td>\n",
       "      <td>137 g/km</td>\n",
       "      <td>165000.0</td>\n",
       "      <td>Avant g-tron*S-TRONIC*LED*NAVI*AHK*1.HAND*</td>\n",
       "    </tr>\n",
       "    <tr>\n",
       "      <th>13078</th>\n",
       "      <td>audi</td>\n",
       "      <td>Audi A3</td>\n",
       "      <td>blue</td>\n",
       "      <td>09/2017</td>\n",
       "      <td>2017.0</td>\n",
       "      <td>18990.0</td>\n",
       "      <td>81</td>\n",
       "      <td>110.0</td>\n",
       "      <td>Automatic</td>\n",
       "      <td>CNG</td>\n",
       "      <td>NaN</td>\n",
       "      <td>- (g/km)</td>\n",
       "      <td>77790.0</td>\n",
       "      <td>Sportback g-tron design Navi Xen AHK-schwenkb</td>\n",
       "    </tr>\n",
       "    <tr>\n",
       "      <th>13213</th>\n",
       "      <td>audi</td>\n",
       "      <td>Audi A3</td>\n",
       "      <td>yellow</td>\n",
       "      <td>12/2017</td>\n",
       "      <td>2017.0</td>\n",
       "      <td>21999.0</td>\n",
       "      <td>81</td>\n",
       "      <td>110.0</td>\n",
       "      <td>Automatic</td>\n",
       "      <td>CNG</td>\n",
       "      <td>5,4 kg/100 km</td>\n",
       "      <td>124 g/km</td>\n",
       "      <td>56003.0</td>\n",
       "      <td>Sportback g-tron design S Line Matrix+B&amp;O+AHK</td>\n",
       "    </tr>\n",
       "    <tr>\n",
       "      <th>13297</th>\n",
       "      <td>audi</td>\n",
       "      <td>Audi A5</td>\n",
       "      <td>grey</td>\n",
       "      <td>12/2017</td>\n",
       "      <td>2017.0</td>\n",
       "      <td>28950.0</td>\n",
       "      <td>125</td>\n",
       "      <td>170.0</td>\n",
       "      <td>Automatic</td>\n",
       "      <td>CNG</td>\n",
       "      <td>6 kg/100 km</td>\n",
       "      <td>106 g/km</td>\n",
       "      <td>51600.0</td>\n",
       "      <td>Sportback 2.0TFSI g-tron*MATRIX-LED*LEDER</td>\n",
       "    </tr>\n",
       "    <tr>\n",
       "      <th>13517</th>\n",
       "      <td>audi</td>\n",
       "      <td>Audi A4</td>\n",
       "      <td>grey</td>\n",
       "      <td>11/2017</td>\n",
       "      <td>2017.0</td>\n",
       "      <td>22999.0</td>\n",
       "      <td>125</td>\n",
       "      <td>170.0</td>\n",
       "      <td>Automatic</td>\n",
       "      <td>CNG</td>\n",
       "      <td>6 kg/100 km</td>\n",
       "      <td>137 g/km</td>\n",
       "      <td>117300.0</td>\n",
       "      <td>Avant G-tron Design*BENZIN/CNG*TOP*GARANTIE*</td>\n",
       "    </tr>\n",
       "    <tr>\n",
       "      <th>14052</th>\n",
       "      <td>audi</td>\n",
       "      <td>Audi A4</td>\n",
       "      <td>black</td>\n",
       "      <td>11/2017</td>\n",
       "      <td>2017.0</td>\n",
       "      <td>21500.0</td>\n",
       "      <td>125</td>\n",
       "      <td>170.0</td>\n",
       "      <td>Manual</td>\n",
       "      <td>CNG</td>\n",
       "      <td>6,2 kg/100 km</td>\n",
       "      <td>- (g/km)</td>\n",
       "      <td>77500.0</td>\n",
       "      <td>A4 Avant g-tron 2.0 TFSI sport</td>\n",
       "    </tr>\n",
       "    <tr>\n",
       "      <th>14597</th>\n",
       "      <td>audi</td>\n",
       "      <td>Audi A5</td>\n",
       "      <td>blue</td>\n",
       "      <td>07/2018</td>\n",
       "      <td>2018.0</td>\n",
       "      <td>27900.0</td>\n",
       "      <td>125</td>\n",
       "      <td>170.0</td>\n",
       "      <td>Automatic</td>\n",
       "      <td>CNG</td>\n",
       "      <td>6 kg/100 km</td>\n",
       "      <td>135 g/km</td>\n",
       "      <td>29863.0</td>\n",
       "      <td>SB g-tron sport*MMI-PLUS*So.+Wi. Räder*1.Hand</td>\n",
       "    </tr>\n",
       "    <tr>\n",
       "      <th>14648</th>\n",
       "      <td>audi</td>\n",
       "      <td>Audi A4</td>\n",
       "      <td>blue</td>\n",
       "      <td>01/2018</td>\n",
       "      <td>2018.0</td>\n",
       "      <td>22987.0</td>\n",
       "      <td>125</td>\n",
       "      <td>170.0</td>\n",
       "      <td>Automatic</td>\n",
       "      <td>CNG</td>\n",
       "      <td>6 kg/100 km</td>\n",
       "      <td>137 g/km</td>\n",
       "      <td>97900.0</td>\n",
       "      <td>Avant g-tron sport</td>\n",
       "    </tr>\n",
       "    <tr>\n",
       "      <th>14686</th>\n",
       "      <td>audi</td>\n",
       "      <td>Audi A5</td>\n",
       "      <td>blue</td>\n",
       "      <td>06/2018</td>\n",
       "      <td>2018.0</td>\n",
       "      <td>19990.0</td>\n",
       "      <td>125</td>\n",
       "      <td>170.0</td>\n",
       "      <td>Manual</td>\n",
       "      <td>CNG</td>\n",
       "      <td>6,3 kg/100 km</td>\n",
       "      <td>143 g/km</td>\n",
       "      <td>103900.0</td>\n",
       "      <td>g-tron S-Line sport|NAVI|TEMPO.|LED|SHZ|PDC</td>\n",
       "    </tr>\n",
       "    <tr>\n",
       "      <th>14699</th>\n",
       "      <td>audi</td>\n",
       "      <td>Audi A5</td>\n",
       "      <td>blue</td>\n",
       "      <td>06/2018</td>\n",
       "      <td>2018.0</td>\n",
       "      <td>27600.0</td>\n",
       "      <td>125</td>\n",
       "      <td>170.0</td>\n",
       "      <td>Automatic</td>\n",
       "      <td>CNG</td>\n",
       "      <td>3,9 kg/100 km</td>\n",
       "      <td>106 g/km</td>\n",
       "      <td>115000.0</td>\n",
       "      <td>Sportback g-tron 2.0 TFSI Sport Carbon</td>\n",
       "    </tr>\n",
       "    <tr>\n",
       "      <th>14783</th>\n",
       "      <td>audi</td>\n",
       "      <td>Audi A3</td>\n",
       "      <td>blue</td>\n",
       "      <td>04/2018</td>\n",
       "      <td>2018.0</td>\n",
       "      <td>15880.0</td>\n",
       "      <td>81</td>\n",
       "      <td>110.0</td>\n",
       "      <td>Manual</td>\n",
       "      <td>CNG</td>\n",
       "      <td>5,5 kg/100 km</td>\n",
       "      <td>128 g/km</td>\n",
       "      <td>137500.0</td>\n",
       "      <td>Sportback g-tron Sport</td>\n",
       "    </tr>\n",
       "    <tr>\n",
       "      <th>14843</th>\n",
       "      <td>audi</td>\n",
       "      <td>Audi A4</td>\n",
       "      <td>blue</td>\n",
       "      <td>05/2018</td>\n",
       "      <td>2018.0</td>\n",
       "      <td>22440.0</td>\n",
       "      <td>125</td>\n",
       "      <td>170.0</td>\n",
       "      <td>Manual</td>\n",
       "      <td>CNG</td>\n",
       "      <td>6,4 kg/100 km</td>\n",
       "      <td>113 g/km</td>\n",
       "      <td>92350.0</td>\n",
       "      <td>Avant 2.0TFSI g-tron Design Xenon Navi AHK SHZ</td>\n",
       "    </tr>\n",
       "    <tr>\n",
       "      <th>14857</th>\n",
       "      <td>audi</td>\n",
       "      <td>Audi A5</td>\n",
       "      <td>brown</td>\n",
       "      <td>07/2018</td>\n",
       "      <td>2018.0</td>\n",
       "      <td>28500.0</td>\n",
       "      <td>125</td>\n",
       "      <td>170.0</td>\n",
       "      <td>Automatic</td>\n",
       "      <td>CNG</td>\n",
       "      <td>6 kg/100 km</td>\n",
       "      <td>135 g/km</td>\n",
       "      <td>66900.0</td>\n",
       "      <td>Sportback g-tron design (CAM/LED/NAVI-MMI/</td>\n",
       "    </tr>\n",
       "  </tbody>\n",
       "</table>\n",
       "</div>"
      ],
      "text/plain": [
       "      brand    model   color registration_date    year  price_in_euro  \\\n",
       "9864   audi  Audi A3    blue           01/2015  2015.0        20930.0   \n",
       "10844  audi  Audi A3  silver           07/2015  2015.0        17200.0   \n",
       "11169  audi  Audi A3   white           03/2015  2015.0        13990.0   \n",
       "11825  audi  Audi A3    grey           10/2016  2016.0        16950.0   \n",
       "12034  audi  Audi A3   black           12/2016  2016.0        15950.0   \n",
       "12455  audi  Audi A3  silver           10/2016  2016.0        15999.0   \n",
       "12674  audi  Audi A3   white           11/2016  2016.0        17970.0   \n",
       "12956  audi  Audi A4    blue           12/2017  2017.0        16980.0   \n",
       "13078  audi  Audi A3    blue           09/2017  2017.0        18990.0   \n",
       "13213  audi  Audi A3  yellow           12/2017  2017.0        21999.0   \n",
       "13297  audi  Audi A5    grey           12/2017  2017.0        28950.0   \n",
       "13517  audi  Audi A4    grey           11/2017  2017.0        22999.0   \n",
       "14052  audi  Audi A4   black           11/2017  2017.0        21500.0   \n",
       "14597  audi  Audi A5    blue           07/2018  2018.0        27900.0   \n",
       "14648  audi  Audi A4    blue           01/2018  2018.0        22987.0   \n",
       "14686  audi  Audi A5    blue           06/2018  2018.0        19990.0   \n",
       "14699  audi  Audi A5    blue           06/2018  2018.0        27600.0   \n",
       "14783  audi  Audi A3    blue           04/2018  2018.0        15880.0   \n",
       "14843  audi  Audi A4    blue           05/2018  2018.0        22440.0   \n",
       "14857  audi  Audi A5   brown           07/2018  2018.0        28500.0   \n",
       "\n",
       "      power_kw  power_ps transmission_type fuel_type fuel_consumption_l_100km  \\\n",
       "9864        81     110.0         Automatic       CNG              5 kg/100 km   \n",
       "10844      110     150.0         Automatic       CNG            4,6 kg/100 km   \n",
       "11169       81     110.0         Automatic       CNG              5 kg/100 km   \n",
       "11825       81     110.0            Manual       CNG            3,6 kg/100 km   \n",
       "12034       81     110.0         Automatic       CNG            5,4 kg/100 km   \n",
       "12455       81     110.0         Automatic       CNG              5 kg/100 km   \n",
       "12674       81     110.0         Automatic       CNG            5,4 kg/100 km   \n",
       "12956      125     170.0         Automatic       CNG              6 kg/100 km   \n",
       "13078       81     110.0         Automatic       CNG                      NaN   \n",
       "13213       81     110.0         Automatic       CNG            5,4 kg/100 km   \n",
       "13297      125     170.0         Automatic       CNG              6 kg/100 km   \n",
       "13517      125     170.0         Automatic       CNG              6 kg/100 km   \n",
       "14052      125     170.0            Manual       CNG            6,2 kg/100 km   \n",
       "14597      125     170.0         Automatic       CNG              6 kg/100 km   \n",
       "14648      125     170.0         Automatic       CNG              6 kg/100 km   \n",
       "14686      125     170.0            Manual       CNG            6,3 kg/100 km   \n",
       "14699      125     170.0         Automatic       CNG            3,9 kg/100 km   \n",
       "14783       81     110.0            Manual       CNG            5,5 kg/100 km   \n",
       "14843      125     170.0            Manual       CNG            6,4 kg/100 km   \n",
       "14857      125     170.0         Automatic       CNG              6 kg/100 km   \n",
       "\n",
       "      fuel_consumption_g_km  mileage_in_km  \\\n",
       "9864               115 g/km        98674.0   \n",
       "10844              - (g/km)        80000.0   \n",
       "11169              115 g/km       133000.0   \n",
       "11825               98 g/km        82880.0   \n",
       "12034              128 g/km        78500.0   \n",
       "12455              115 g/km        92634.0   \n",
       "12674              123 g/km        95947.0   \n",
       "12956              137 g/km       165000.0   \n",
       "13078              - (g/km)        77790.0   \n",
       "13213              124 g/km        56003.0   \n",
       "13297              106 g/km        51600.0   \n",
       "13517              137 g/km       117300.0   \n",
       "14052              - (g/km)        77500.0   \n",
       "14597              135 g/km        29863.0   \n",
       "14648              137 g/km        97900.0   \n",
       "14686              143 g/km       103900.0   \n",
       "14699              106 g/km       115000.0   \n",
       "14783              128 g/km       137500.0   \n",
       "14843              113 g/km        92350.0   \n",
       "14857              135 g/km        66900.0   \n",
       "\n",
       "                                       offer_description  \n",
       "9864                 1.4 TFSI g-tron S-tronic S-Line GRA  \n",
       "10844  1.4 TFSI cylinder on demand ultra Limousine At...  \n",
       "11169                      Ambiente Sportback Erdgas CNG  \n",
       "11825        1.4TFSI g-tron 2x S line/Sportback/VOLL/CNG  \n",
       "12034              Sportback g-tron*AHK*Erdgas*Automatik  \n",
       "12455        G-tron Sportback Navi Xenon Sitzh ACC HIFI*  \n",
       "12674  Sportback g-tron 1.4 TFSI Navi Pano Apple CarPlay  \n",
       "12956         Avant g-tron*S-TRONIC*LED*NAVI*AHK*1.HAND*  \n",
       "13078      Sportback g-tron design Navi Xen AHK-schwenkb  \n",
       "13213      Sportback g-tron design S Line Matrix+B&O+AHK  \n",
       "13297          Sportback 2.0TFSI g-tron*MATRIX-LED*LEDER  \n",
       "13517       Avant G-tron Design*BENZIN/CNG*TOP*GARANTIE*  \n",
       "14052                     A4 Avant g-tron 2.0 TFSI sport  \n",
       "14597      SB g-tron sport*MMI-PLUS*So.+Wi. Räder*1.Hand  \n",
       "14648                                 Avant g-tron sport  \n",
       "14686        g-tron S-Line sport|NAVI|TEMPO.|LED|SHZ|PDC  \n",
       "14699             Sportback g-tron 2.0 TFSI Sport Carbon  \n",
       "14783                             Sportback g-tron Sport  \n",
       "14843     Avant 2.0TFSI g-tron Design Xenon Navi AHK SHZ  \n",
       "14857         Sportback g-tron design (CAM/LED/NAVI-MMI/  "
      ]
     },
     "execution_count": 91,
     "metadata": {},
     "output_type": "execute_result"
    }
   ],
   "source": [
    "#to see whether kg/100km belong to gas cars:\n",
    "df_gas=df.loc[(df['fuel_type']=='LNG') | (df['fuel_type']=='Hydrogen') | (df['fuel_type']=='CNG')]\n",
    "df_gas.head(20)"
   ]
  },
  {
   "cell_type": "code",
   "execution_count": 92,
   "id": "2919bc7a",
   "metadata": {},
   "outputs": [
    {
     "data": {
      "text/plain": [
       "array(['10,9 l/100 km', nan, '9,5 l/100 km', '7,2 l/100 km',\n",
       "       '8,8 l/100 km', '13,4 l/100 km', '11 l/100 km', '9,2 l/100 km',\n",
       "       '11,1 l/100 km', '11,7 l/100 km', '8,4 l/100 km', '8,2 l/100 km',\n",
       "       '8,9 l/100 km', '11,4 l/100 km', '8,5 l/100 km', '8,3 l/100 km',\n",
       "       '7,9 l/100 km', '8,7 l/100 km', '8,1 l/100 km', '12,2 l/100 km',\n",
       "       '12 l/100 km', '5,8 l/100 km', '10 l/100 km', '6,7 l/100 km',\n",
       "       '8,6 l/100 km', '12,5 l/100 km', '9,7 l/100 km', '12,1 l/100 km',\n",
       "       '8 l/100 km', '7,5 l/100 km', '6,2 l/100 km', '13,2 l/100 km',\n",
       "       '6 l/100 km', '12,4 l/100 km', '6,8 l/100 km', '9,4 l/100 km',\n",
       "       '6,1 l/100 km', '5,9 l/100 km', '11,5 l/100 km', '11,6 l/100 km',\n",
       "       '7,6 l/100 km', '5,2 l/100 km', '7,1 l/100 km', '6,9 l/100 km',\n",
       "       '12,3 l/100 km', '6,5 l/100 km', '7,7 l/100 km', '4,6 l/100 km',\n",
       "       '4,8 l/100 km', '4,5 l/100 km', '5,3 l/100 km', '6,4 l/100 km',\n",
       "       '4,9 l/100 km', '6,6 l/100 km', '5,5 l/100 km', '5,4 l/100 km',\n",
       "       '5,6 l/100 km', '16,8 l/100 km', '5,7 l/100 km', '3,5 l/100 km',\n",
       "       '4,4 l/100 km', '4,7 l/100 km', '4 l/100 km', '4,2 l/100 km',\n",
       "       '- (l/100 km)', '7 l/100 km', '4,3 l/100 km', '5,1 l/100 km',\n",
       "       '3,4 l/100 km', '3,9 l/100 km', '3,8 l/100 km', '9 l/100 km',\n",
       "       '9,8 l/100 km', '10,3 l/100 km', '7,4 l/100 km', '7,8 l/100 km',\n",
       "       '6,3 l/100 km', '10,1 l/100 km', '5 l/100 km', '9,3 l/100 km',\n",
       "       '7,3 l/100 km', '10,8 l/100 km', '0 l/100 km', '11,8 l/100 km',\n",
       "       '1,3 l/100 km', '1,4 l/100 km', '9,1 l/100 km', '9,6 l/100 km',\n",
       "       '10,2 l/100 km', '1,5 l/100 km', '12,7 l/100 km', '16,5 l/100 km',\n",
       "       '14,7 l/100 km', '16,7 l/100 km', '18,8 l/100 km', '14,6 l/100 km',\n",
       "       '17,8 l/100 km', '17,2 l/100 km', '18,9 l/100 km', '15 l/100 km',\n",
       "       '13,8 l/100 km', '18,7 l/100 km', '16,4 l/100 km', '15,6 l/100 km',\n",
       "       '18,2 l/100 km', '18 l/100 km', '14 l/100 km', '14,9 l/100 km',\n",
       "       '13,9 l/100 km', '15,5 l/100 km', '12,6 l/100 km', '14,4 l/100 km',\n",
       "       '12,9 l/100 km', '14,3 l/100 km', '17 l/100 km', '12,8 l/100 km',\n",
       "       '13,1 l/100 km', '9,9 l/100 km', '10,5 l/100 km', '14,2 l/100 km',\n",
       "       '13,5 l/100 km', '10,6 l/100 km', '16,9 l/100 km', '11,2 l/100 km',\n",
       "       '10,7 l/100 km', '11,3 l/100 km', '19,9 l/100 km', '10,4 l/100 km',\n",
       "       '13,7 l/100 km', '11,9 l/100 km', '3,2 l/100 km', '14,5 l/100 km',\n",
       "       '14,8 l/100 km', '13,3 l/100 km', '13 l/100 km', '13,6 l/100 km',\n",
       "       '4,1 l/100 km', '3,7 l/100 km', '3,3 l/100 km', '5 kg/100 km',\n",
       "       '1,7 l/100 km', '1,9 l/100 km', '4,6 kg/100 km', '3,6 l/100 km',\n",
       "       '3,6 kg/100 km', '5,4 kg/100 km', '1,8 l/100 km', '6 kg/100 km',\n",
       "       '1,6 l/100 km', '6,2 kg/100 km', '6,3 kg/100 km', '3,9 kg/100 km',\n",
       "       '5,5 kg/100 km', '6,4 kg/100 km', '5,2 kg/100 km', '1 l/100 km',\n",
       "       '5,7 kg/100 km', '6,5 kg/100 km', '2,1 l/100 km', '2,2 l/100 km',\n",
       "       '2,4 l/100 km', '4,4 kg/100 km', '6,1 kg/100 km', '4,8 kg/100 km',\n",
       "       '2 l/100 km', '3 l/100 km', '3,5 kg/100 km', '21,2 l/100 km',\n",
       "       '4,5 kg/100 km', '2,7 l/100 km', '2,6 l/100 km', '19,4 l/100 km',\n",
       "       '0 kWh/100 km', '0,4 l/100 km', '19,2 l/100 km', '20,6 l/100 km',\n",
       "       '16,6 l/100 km', '17,1 l/100 km', '19,5 l/100 km', '17,7 l/100 km',\n",
       "       '16,3 l/100 km', '15,9 l/100 km', '14,1 l/100 km', '141 l/100 km',\n",
       "       '15,7 l/100 km', '16,2 l/100 km', '9,1 kg/100 km', '15,2 l/100 km',\n",
       "       '- (g/km)', '99 l/100 km', '0,6 l/100 km', '2,8 l/100 km',\n",
       "       '1,2 l/100 km', '2,5 l/100 km', '2,3 l/100 km', '212 kWh/100 km',\n",
       "       '19,3 kWh/100 km', '224 kWh/100 km', '66,4 l/100 km',\n",
       "       '19,1 kWh/100 km', '19 l/100 km', '73 l/100 km', '165 kWh/100 km',\n",
       "       '38 l/100 km', '3,1 l/100 km', '45 l/100 km', '5,3 kg/100 km',\n",
       "       '62 l/100 km', '8,4 kg/100 km', '8,3 kg/100 km', '4,9 kg/100 km',\n",
       "       '8,8 kg/100 km', '15,3 l/100 km', '21 l/100 km', '14,9 kg/100 km',\n",
       "       '14,7 kg/100 km', '22,2 l/100 km', '22,9 l/100 km',\n",
       "       '20,8 l/100 km', '17,9 l/100 km', '19,1 l/100 km', '21,8 l/100 km',\n",
       "       '20,7 l/100 km', '18,3 l/100 km', '21,3 l/100 km', '17,5 l/100 km',\n",
       "       '16,1 l/100 km', '15,1 l/100 km', '5,6 kg/100 km', '6,8 kg/100 km',\n",
       "       '5,9 kg/100 km', '7,4 kg/100 km', '14,3 kWh/100 km',\n",
       "       '13 kWh/100 km', '88 l/100 km', '7,3 kg/100 km', '65 l/100 km',\n",
       "       '66 l/100 km', '4.300 l/100 km', '15,8 l/100 km', '22 l/100 km',\n",
       "       '99,9 l/100 km', '85,4 l/100 km', '2,9 l/100 km', '1,1 l/100 km',\n",
       "       '119 l/100 km', '17,8 kWh/100 km', '51,8 l/100 km', '41 l/100 km',\n",
       "       '1 kg/100 km', '1,2 kg/100 km', '15,4 kWh/100 km', '0,8 kg/100 km',\n",
       "       '0,9 kg/100 km', '14,7 kWh/100 km', '53 l/100 km', '22 kWh/100 km',\n",
       "       '12,6 kWh/100 km', '20,6 kWh/100 km', '0,8 l/100 km',\n",
       "       '60 l/100 km', '52 l/100 km', '21,5 l/100 km', '16 l/100 km',\n",
       "       '19,6 l/100 km', '20,1 l/100 km', '18,4 l/100 km', '31,4 l/100 km',\n",
       "       '0,9 l/100 km', '18,1 l/100 km', '18,6 l/100 km', '21,9 l/100 km',\n",
       "       '15,4 l/100 km', '9,3 kg/100 km', '7,5 kg/100 km',\n",
       "       '13,3 kg/100 km', '7,8 kg/100 km', '12/2011', '0 kg/100 km',\n",
       "       '4,2 kg/100 km', '13,1 kg/100 km', '0,1 l/100 km', '0,7 l/100 km',\n",
       "       '0,5 l/100 km', '152 l/100 km', '98,4 l/100 km', '8,1 kg/100 km',\n",
       "       '7,6 kg/100 km', '7,7 kg/100 km', '5,1 kg/100 km', '4,7 kg/100 km',\n",
       "       '7,2 kg/100 km', '15,8 kWh/100 km', '59 l/100 km',\n",
       "       '17,7 kWh/100 km', '57 l/100 km', '17,5 kWh/100 km',\n",
       "       '15,5 kWh/100 km', '18 kWh/100 km', '116 l/100 km', '107 l/100 km',\n",
       "       '17,3 kWh/100 km', '3,7 kg/100 km', '2,9 kg/100 km',\n",
       "       '4,3 kg/100 km', '3,3 kg/100 km', '3,4 kg/100 km', '3,8 kg/100 km',\n",
       "       '120 l/100 km', '131 l/100 km', '4 kg/100 km', '147 l/100 km',\n",
       "       '173 l/100 km', '132 l/100 km', '130 l/100 km', '138 l/100 km',\n",
       "       '134 l/100 km', '4,1 kg/100 km', '56 l/100 km', '133 l/100 km',\n",
       "       '2,8 kg/100 km', '123 l/100 km', '125 l/100 km', '7,1 kg/100 km',\n",
       "       '14,5 kWh/100 km', '122 l/100 km', '171 l/100 km', '16 kWh/100 km',\n",
       "       '55 l/100 km', '0,1 kg/100 km', '49 l/100 km', '30 l/100 km',\n",
       "       '8,7 kg/100 km', '8,6 kg/100 km', '26 l/100 km', '11,2 kg/100 km',\n",
       "       '8,9 kg/100 km', '5,8 kg/100 km', '6,9 kg/100 km', '7 kg/100 km',\n",
       "       '61 l/100 km', '10,4 kg/100 km', '36 l/100 km', '146 l/100 km',\n",
       "       '143 l/100 km', '0,2 l/100 km', '9 kg/100 km', '22,6 l/100 km'],\n",
       "      dtype=object)"
      ]
     },
     "execution_count": 92,
     "metadata": {},
     "output_type": "execute_result"
    }
   ],
   "source": [
    "df.drop(df.loc[df['fuel_consumption_l_100km'] == 'Diesel'].index, inplace=True)\n",
    "df.drop(df.loc[df['fuel_consumption_l_100km'] == 'Petrol'].index, inplace=True)\n",
    "df.drop(df.loc[df['fuel_consumption_l_100km'] == 'Manual'].index, inplace=True)\n",
    "df.drop(df.loc[df['fuel_consumption_l_100km'] == 'Electric'].index, inplace=True)\n",
    "df.drop(df.loc[df['fuel_consumption_l_100km'] == 'Hybrid'].index, inplace=True)\n",
    "df.drop(df.loc[df['fuel_consumption_l_100km'] == 'Automatic'].index, inplace=True)\n",
    "df.drop(df.loc[df['fuel_consumption_l_100km'].str.contains(' g/km', na=False)].index, inplace=True)\n",
    "df.drop(df.loc[df['fuel_consumption_l_100km'].str.contains('Ort', na=False)].index, inplace=True)\n",
    "#df.drop(df.loc[df['fuel_consumption_l_100km'].str.contains('/', na=False)].index, inplace=True)\n",
    "#df.drop(df.loc[df['fuel_consumption_l_100km'].str.contains('km', na=False)].index, inplace=True)\n",
    "df.drop(df.loc[df['fuel_consumption_l_100km'] == '2012'].index, inplace=True)\n",
    "df.drop(df.loc[df['fuel_consumption_l_100km'] == '2003'].index, inplace=True)\n",
    "df.drop(df.loc[df['fuel_consumption_l_100km'] == '2006'].index, inplace=True)\n",
    "df.drop(df.loc[df['fuel_consumption_l_100km'] == '2007'].index, inplace=True)\n",
    "df.drop(df.loc[df['fuel_consumption_l_100km'] == '2010'].index, inplace=True)\n",
    "df.drop(df.loc[df['fuel_consumption_l_100km'] == '2015'].index, inplace=True)\n",
    "df.drop(df.loc[df['fuel_consumption_l_100km'] == '2020'].index, inplace=True)\n",
    "df.drop(df.loc[df['fuel_consumption_l_100km'] == '2023'].index, inplace=True)\n",
    "df.drop(df.loc[df['fuel_consumption_l_100km'] == '2013'].index, inplace=True)\n",
    "df.drop(df.loc[df['fuel_consumption_l_100km'] == '2022'].index, inplace=True)\n",
    "df.drop(df.loc[df['fuel_consumption_l_100km'] == '2019'].index, inplace=True)\n",
    "df.drop(df.loc[df['fuel_consumption_l_100km'].str.contains('2016', na=False)].index, inplace=True)\n",
    "df.drop(df.loc[df['fuel_consumption_l_100km'].str.contains('2009', na=False)].index, inplace=True)\n",
    "df.drop(df.loc[df['fuel_consumption_l_100km'].str.contains('2014', na=False)].index, inplace=True)\n",
    "df.drop(df.loc[df['fuel_consumption_l_100km'].str.contains('2017', na=False)].index, inplace=True)\n",
    "df.drop(df.loc[df['fuel_consumption_l_100km'].str.contains('2018', na=False)].index, inplace=True)\n",
    "df.drop(df.loc[df['fuel_consumption_l_100km'].str.contains('2022', na=False)].index, inplace=True)\n",
    "df.drop(df.loc[df['fuel_consumption_l_100km'].str.contains('2019', na=False)].index, inplace=True)\n",
    "df.drop(df.loc[df['fuel_consumption_l_100km'].str.contains('2020', na=False)].index, inplace=True)\n",
    "df.drop(df.loc[df['fuel_consumption_l_100km'].str.contains('2021', na=False)].index, inplace=True)\n",
    "df.drop(df.loc[df['fuel_consumption_l_100km'].str.contains('Reichweite', na=False)].index, inplace=True)\n",
    "\n",
    "df['fuel_consumption_l_100km'].unique()\n",
    "\n",
    "#however it is important to notice that here included not only l/ 100km\n",
    "#but kWh/ 100m for electric auto"
   ]
  },
  {
   "cell_type": "code",
   "execution_count": 93,
   "id": "0696ba20",
   "metadata": {},
   "outputs": [
    {
     "data": {
      "text/plain": [
       "0    10.9\n",
       "1     NaN\n",
       "2     NaN\n",
       "3     9.5\n",
       "4     7.2\n",
       "Name: fuel_consumption_l_100km, dtype: float64"
      ]
     },
     "execution_count": 93,
     "metadata": {},
     "output_type": "execute_result"
    }
   ],
   "source": [
    "# Define a function to clean the fuel consumption column\n",
    "def clean_fuel_consumption(val):\n",
    "    if pd.isna(val):\n",
    "        return val  # If value is NaN, keep it as NaN\n",
    "    val = val.replace(',', '.')  # Replace commas with dots for decimal point\n",
    "    for unit in [' l', ' kg', ' kWh']:  # Loop through the units to remove them\n",
    "        if unit in val:\n",
    "            return val.split(unit)[0]  # Return only the numeric part\n",
    "    return val  # Return the value unchanged if no units found\n",
    "\n",
    "# Apply the cleaning function to the 'fuel_consumption_l_100km' column\n",
    "df['fuel_consumption_l_100km'] = df['fuel_consumption_l_100km'].apply(clean_fuel_consumption)\n",
    "\n",
    "# Convert to numeric, forcing invalid values to NaN\n",
    "df['fuel_consumption_l_100km'] = pd.to_numeric(df['fuel_consumption_l_100km'], errors='coerce')\n",
    "\n",
    "# Check the result\n",
    "df['fuel_consumption_l_100km'].head()"
   ]
  },
  {
   "cell_type": "code",
   "execution_count": 94,
   "id": "b1f00c1e",
   "metadata": {},
   "outputs": [
    {
     "data": {
      "text/plain": [
       "array([1.09e+01,      nan, 9.50e+00, 7.20e+00, 8.80e+00, 1.34e+01,\n",
       "       1.10e+01, 9.20e+00, 1.11e+01, 1.17e+01, 8.40e+00, 8.20e+00,\n",
       "       8.90e+00, 1.14e+01, 8.50e+00, 8.30e+00, 7.90e+00, 8.70e+00,\n",
       "       8.10e+00, 1.22e+01, 1.20e+01, 5.80e+00, 1.00e+01, 6.70e+00,\n",
       "       8.60e+00, 1.25e+01, 9.70e+00, 1.21e+01, 8.00e+00, 7.50e+00,\n",
       "       6.20e+00, 1.32e+01, 6.00e+00, 1.24e+01, 6.80e+00, 9.40e+00,\n",
       "       6.10e+00, 5.90e+00, 1.15e+01, 1.16e+01, 7.60e+00, 5.20e+00,\n",
       "       7.10e+00, 6.90e+00, 1.23e+01, 6.50e+00, 7.70e+00, 4.60e+00,\n",
       "       4.80e+00, 4.50e+00, 5.30e+00, 6.40e+00, 4.90e+00, 6.60e+00,\n",
       "       5.50e+00, 5.40e+00, 5.60e+00, 1.68e+01, 5.70e+00, 3.50e+00,\n",
       "       4.40e+00, 4.70e+00, 4.00e+00, 4.20e+00, 7.00e+00, 4.30e+00,\n",
       "       5.10e+00, 3.40e+00, 3.90e+00, 3.80e+00, 9.00e+00, 9.80e+00,\n",
       "       1.03e+01, 7.40e+00, 7.80e+00, 6.30e+00, 1.01e+01, 5.00e+00,\n",
       "       9.30e+00, 7.30e+00, 1.08e+01, 0.00e+00, 1.18e+01, 1.30e+00,\n",
       "       1.40e+00, 9.10e+00, 9.60e+00, 1.02e+01, 1.50e+00, 1.27e+01,\n",
       "       1.65e+01, 1.47e+01, 1.67e+01, 1.88e+01, 1.46e+01, 1.78e+01,\n",
       "       1.72e+01, 1.89e+01, 1.50e+01, 1.38e+01, 1.87e+01, 1.64e+01,\n",
       "       1.56e+01, 1.82e+01, 1.80e+01, 1.40e+01, 1.49e+01, 1.39e+01,\n",
       "       1.55e+01, 1.26e+01, 1.44e+01, 1.29e+01, 1.43e+01, 1.70e+01,\n",
       "       1.28e+01, 1.31e+01, 9.90e+00, 1.05e+01, 1.42e+01, 1.35e+01,\n",
       "       1.06e+01, 1.69e+01, 1.12e+01, 1.07e+01, 1.13e+01, 1.99e+01,\n",
       "       1.04e+01, 1.37e+01, 1.19e+01, 3.20e+00, 1.45e+01, 1.48e+01,\n",
       "       1.33e+01, 1.30e+01, 1.36e+01, 4.10e+00, 3.70e+00, 3.30e+00,\n",
       "       1.70e+00, 1.90e+00, 3.60e+00, 1.80e+00, 1.60e+00, 1.00e+00,\n",
       "       2.10e+00, 2.20e+00, 2.40e+00, 2.00e+00, 3.00e+00, 2.12e+01,\n",
       "       2.70e+00, 2.60e+00, 1.94e+01, 4.00e-01, 1.92e+01, 2.06e+01,\n",
       "       1.66e+01, 1.71e+01, 1.95e+01, 1.77e+01, 1.63e+01, 1.59e+01,\n",
       "       1.41e+01, 1.41e+02, 1.57e+01, 1.62e+01, 1.52e+01, 9.90e+01,\n",
       "       6.00e-01, 2.80e+00, 1.20e+00, 2.50e+00, 2.30e+00, 2.12e+02,\n",
       "       1.93e+01, 2.24e+02, 6.64e+01, 1.91e+01, 1.90e+01, 7.30e+01,\n",
       "       1.65e+02, 3.80e+01, 3.10e+00, 4.50e+01, 6.20e+01, 1.53e+01,\n",
       "       2.10e+01, 2.22e+01, 2.29e+01, 2.08e+01, 1.79e+01, 2.18e+01,\n",
       "       2.07e+01, 1.83e+01, 2.13e+01, 1.75e+01, 1.61e+01, 1.51e+01,\n",
       "       8.80e+01, 6.50e+01, 6.60e+01, 1.58e+01, 2.20e+01, 9.99e+01,\n",
       "       8.54e+01, 2.90e+00, 1.10e+00, 1.19e+02, 5.18e+01, 4.10e+01,\n",
       "       1.54e+01, 8.00e-01, 9.00e-01, 5.30e+01, 6.00e+01, 5.20e+01,\n",
       "       2.15e+01, 1.60e+01, 1.96e+01, 2.01e+01, 1.84e+01, 3.14e+01,\n",
       "       1.81e+01, 1.86e+01, 2.19e+01, 1.00e-01, 7.00e-01, 5.00e-01,\n",
       "       1.52e+02, 9.84e+01, 5.90e+01, 5.70e+01, 1.16e+02, 1.07e+02,\n",
       "       1.73e+01, 1.20e+02, 1.31e+02, 1.47e+02, 1.73e+02, 1.32e+02,\n",
       "       1.30e+02, 1.38e+02, 1.34e+02, 5.60e+01, 1.33e+02, 1.23e+02,\n",
       "       1.25e+02, 1.22e+02, 1.71e+02, 5.50e+01, 4.90e+01, 3.00e+01,\n",
       "       2.60e+01, 6.10e+01, 3.60e+01, 1.46e+02, 1.43e+02, 2.00e-01,\n",
       "       2.26e+01])"
      ]
     },
     "execution_count": 94,
     "metadata": {},
     "output_type": "execute_result"
    }
   ],
   "source": [
    "df['fuel_consumption_l_100km'].unique()"
   ]
  },
  {
   "cell_type": "code",
   "execution_count": 95,
   "id": "83ae61ca",
   "metadata": {},
   "outputs": [
    {
     "name": "stdout",
     "output_type": "stream",
     "text": [
      "Number of NaN values: brand                           0\n",
      "model                           0\n",
      "color                          84\n",
      "registration_date               0\n",
      "year                           12\n",
      "price_in_euro                  12\n",
      "power_kw                      130\n",
      "power_ps                      127\n",
      "transmission_type               0\n",
      "fuel_type                       0\n",
      "fuel_consumption_l_100km    27686\n",
      "fuel_consumption_g_km           0\n",
      "mileage_in_km                  54\n",
      "offer_description               0\n",
      "dtype: int64\n"
     ]
    }
   ],
   "source": [
    "# Count the number of NaN values in  dataset\n",
    "nan_count = df.isna().sum()\n",
    "\n",
    "print(f\"Number of NaN values: {nan_count}\")"
   ]
  },
  {
   "cell_type": "markdown",
   "id": "2e994e8d",
   "metadata": {},
   "source": [
    "## Before I come back to fuel distubution, I check some categorical data for nans and already drop some data:"
   ]
  },
  {
   "cell_type": "code",
   "execution_count": 96,
   "id": "7a260689",
   "metadata": {},
   "outputs": [
    {
     "data": {
      "text/plain": [
       "transmission_type\n",
       "Automatic         127978\n",
       "Manual            114634\n",
       "Unknown             1138\n",
       "Semi-automatic       315\n",
       "Name: count, dtype: int64"
      ]
     },
     "execution_count": 96,
     "metadata": {},
     "output_type": "execute_result"
    }
   ],
   "source": [
    "df['transmission_type'].value_counts()"
   ]
  },
  {
   "cell_type": "code",
   "execution_count": 97,
   "id": "fc3db1f7",
   "metadata": {},
   "outputs": [
    {
     "data": {
      "text/plain": [
       "fuel_type\n",
       "Petrol           139556\n",
       "Diesel            84865\n",
       "Hybrid            11615\n",
       "Electric           5535\n",
       "LPG                1156\n",
       "CNG                 507\n",
       "Diesel Hybrid       464\n",
       "Other               168\n",
       "Unknown              96\n",
       "Hydrogen             81\n",
       "Ethanol              10\n",
       "06/2009               1\n",
       "02/2023               1\n",
       "11/2014               1\n",
       "05/2012               1\n",
       "13000                 1\n",
       "04/2013               1\n",
       "02/1996               1\n",
       "11/2018               1\n",
       "04/2008               1\n",
       "03/2017               1\n",
       "05/2009               1\n",
       "12/2016               1\n",
       "Name: count, dtype: int64"
      ]
     },
     "execution_count": 97,
     "metadata": {},
     "output_type": "execute_result"
    }
   ],
   "source": [
    "df['fuel_type'].value_counts()"
   ]
  },
  {
   "cell_type": "code",
   "execution_count": 98,
   "id": "094cf6bb",
   "metadata": {},
   "outputs": [
    {
     "data": {
      "text/plain": [
       "color\n",
       "black     57556\n",
       "grey      45644\n",
       "white     39365\n",
       "silver    33511\n",
       "blue      31006\n",
       "red       20524\n",
       "brown      4303\n",
       "green      3385\n",
       "orange     3177\n",
       "beige      2266\n",
       "yellow     1729\n",
       "gold        565\n",
       "bronze      560\n",
       "violet      390\n",
       "Name: count, dtype: int64"
      ]
     },
     "execution_count": 98,
     "metadata": {},
     "output_type": "execute_result"
    }
   ],
   "source": [
    "df['color'].value_counts()"
   ]
  },
  {
   "cell_type": "code",
   "execution_count": 99,
   "id": "ee6844d3",
   "metadata": {},
   "outputs": [],
   "source": [
    "#I remove the Unknown transmission type and fuel type\n",
    "df.drop(df.loc[df['transmission_type'] == 'Unknown'].index, inplace=True)\n",
    "df.drop(df.loc[df['fuel_type'] == 'Unknown'].index, inplace=True)"
   ]
  },
  {
   "cell_type": "code",
   "execution_count": 100,
   "id": "f153d07a",
   "metadata": {},
   "outputs": [
    {
     "data": {
      "text/plain": [
       "1304"
      ]
     },
     "execution_count": 100,
     "metadata": {},
     "output_type": "execute_result"
    }
   ],
   "source": [
    "df['model'].nunique()"
   ]
  },
  {
   "cell_type": "code",
   "execution_count": 101,
   "id": "b510bce3",
   "metadata": {},
   "outputs": [],
   "source": [
    "\n",
    "# new column named Age \n",
    "current_year = datetime.now().year\n",
    "df['age'] = current_year - df['year']"
   ]
  },
  {
   "cell_type": "code",
   "execution_count": 102,
   "id": "3545379b",
   "metadata": {},
   "outputs": [],
   "source": [
    "df = df.dropna(subset=['mileage_in_km'])\n",
    "df = df.dropna(subset=['price_in_euro'])\n",
    "df = df.dropna(subset=['year'])\n",
    "#I do not remove the nans in fuel_consumption and power_ps because I am going to work wuth them (replace)"
   ]
  },
  {
   "cell_type": "code",
   "execution_count": 103,
   "id": "6bcab733",
   "metadata": {},
   "outputs": [
    {
     "name": "stdout",
     "output_type": "stream",
     "text": [
      "fuel_consumption_g_km\n",
      "- (g/km)             35233\n",
      "0 g/km                8379\n",
      "119 g/km              4635\n",
      "114 g/km              3765\n",
      "139 g/km              3295\n",
      "                     ...  \n",
      "107 km Reichweite        1\n",
      "646 km Reichweite        1\n",
      "724 km Reichweite        1\n",
      "387 km Reichweite        1\n",
      "78 km Reichweite         1\n",
      "Name: count, Length: 1414, dtype: int64\n",
      "We can see there are a lot of hidden unknown data\n"
     ]
    }
   ],
   "source": [
    "#Here I will check for data in fuel_consumption_g_km\n",
    "print(df['fuel_consumption_g_km'].value_counts())\n",
    "print('We can see there are a lot of hidden unknown data')\n"
   ]
  },
  {
   "cell_type": "code",
   "execution_count": 105,
   "id": "0397905f",
   "metadata": {},
   "outputs": [],
   "source": [
    "df=df.drop(columns=['fuel_consumption_g_km', 'power_kw', 'registration_date'])"
   ]
  },
  {
   "cell_type": "markdown",
   "id": "0d40f2ff",
   "metadata": {},
   "source": [
    "## There are a lot of questions about distribution of fuel_consumption_values. I will check it."
   ]
  },
  {
   "cell_type": "code",
   "execution_count": 106,
   "id": "f61d8d14",
   "metadata": {},
   "outputs": [
    {
     "data": {
      "image/png": "[encoded data removed]",
      "text/plain": [
       "<Figure size 1500x500 with 1 Axes>"
      ]
     },
     "metadata": {},
     "output_type": "display_data"
    }
   ],
   "source": [
    "fig=plt.figure(figsize=(15, 5))\n",
    "\n",
    "sns.boxplot(x=df.fuel_consumption_l_100km)\n",
    "plt.title('Boxplot for fuel consumptiuon')\n",
    "plt.show();"
   ]
  },
  {
   "cell_type": "markdown",
   "id": "3505c8ce",
   "metadata": {},
   "source": [
    "### I see a great number of outliers from both sides. First, I will check that are the outliers from the higher values. Looks like mistake of scraping."
   ]
  },
  {
   "cell_type": "markdown",
   "id": "94765e79",
   "metadata": {},
   "source": [
    "### Examples, I see some weird data as 224, or 165, 212, Let see what are the high fuel consumptions"
   ]
  },
  {
   "cell_type": "code",
   "execution_count": 107,
   "id": "3e686dfd",
   "metadata": {},
   "outputs": [
    {
     "name": "stdout",
     "output_type": "stream",
     "text": [
      "Empty DataFrame\n",
      "Columns: [brand, model, color, year, price_in_euro, power_ps, transmission_type, fuel_type, fuel_consumption_l_100km, mileage_in_km, offer_description, age]\n",
      "Index: []\n",
      "It looks like mistake, it is rather around 22.4, I will have to correct it\n"
     ]
    }
   ],
   "source": [
    "df_224=df.loc[df['fuel_consumption_l_100km']=='224']\n",
    "print(df_224.head(5))\n",
    "print('It looks like mistake, it is rather around 22.4, I will have to correct it')"
   ]
  },
  {
   "cell_type": "code",
   "execution_count": 108,
   "id": "316d9619",
   "metadata": {},
   "outputs": [
    {
     "name": "stdout",
     "output_type": "stream",
     "text": [
      "Empty DataFrame\n",
      "Columns: [brand, model, color, year, price_in_euro, power_ps, transmission_type, fuel_type, fuel_consumption_l_100km, mileage_in_km, offer_description, age]\n",
      "Index: []\n",
      "It looks like mistake, it is rather around 21.2, I will have to correct it\n"
     ]
    }
   ],
   "source": [
    "df_212=df.loc[df['fuel_consumption_l_100km']=='212']\n",
    "print(df_212.head(5))\n",
    "print('It looks like mistake, it is rather around 21.2, I will have to correct it')"
   ]
  },
  {
   "cell_type": "code",
   "execution_count": 109,
   "id": "267938dc",
   "metadata": {},
   "outputs": [
    {
     "name": "stdout",
     "output_type": "stream",
     "text": [
      "Empty DataFrame\n",
      "Columns: [brand, model, color, year, price_in_euro, power_ps, transmission_type, fuel_type, fuel_consumption_l_100km, mileage_in_km, offer_description, age]\n",
      "Index: []\n",
      "It looks like mistake, it is rather around 16.5, I will have to correct it\n"
     ]
    }
   ],
   "source": [
    "df_165=df.loc[df['fuel_consumption_l_100km']=='165']\n",
    "print(df_165.head(5))\n",
    "print('It looks like mistake, it is rather around 16.5, I will have to correct it')"
   ]
  },
  {
   "cell_type": "code",
   "execution_count": 110,
   "id": "a731e416",
   "metadata": {},
   "outputs": [
    {
     "name": "stdout",
     "output_type": "stream",
     "text": [
      "<class 'pandas.core.frame.DataFrame'>\n",
      "Index: 138 entries, 19927 to 250736\n",
      "Data columns (total 12 columns):\n",
      " #   Column                    Non-Null Count  Dtype  \n",
      "---  ------                    --------------  -----  \n",
      " 0   brand                     138 non-null    object \n",
      " 1   model                     138 non-null    object \n",
      " 2   color                     138 non-null    object \n",
      " 3   year                      138 non-null    float64\n",
      " 4   price_in_euro             138 non-null    float64\n",
      " 5   power_ps                  138 non-null    float64\n",
      " 6   transmission_type         138 non-null    object \n",
      " 7   fuel_type                 138 non-null    object \n",
      " 8   fuel_consumption_l_100km  138 non-null    float64\n",
      " 9   mileage_in_km             138 non-null    float64\n",
      " 10  offer_description         138 non-null    object \n",
      " 11  age                       138 non-null    float64\n",
      "dtypes: float64(6), object(6)\n",
      "memory usage: 14.0+ KB\n"
     ]
    }
   ],
   "source": [
    "df_fuel_high=df.loc[df['fuel_consumption_l_100km']>20]\n",
    "df_fuel_high.info()"
   ]
  },
  {
   "cell_type": "code",
   "execution_count": 111,
   "id": "c7fd0660",
   "metadata": {},
   "outputs": [],
   "source": [
    "# Dictionary to map incorrect values to correct ones\n",
    "corrections = {\n",
    "    141: 14.1,\n",
    "    212: 21.2,\n",
    "    224: 22.4,\n",
    "    99: 9.9,\n",
    "    138:13.8,\n",
    "    134:13.4,\n",
    "    133:13.3,\n",
    "    173:17.3,\n",
    "    123:12.3,\n",
    "    125:12.5,\n",
    "    152:15.2,\n",
    "    122:12.2,\n",
    "    146:14.6,\n",
    "    147:14.7,\n",
    "    143:14.3,\n",
    "    130:13.0,\n",
    "    165:16.5,\n",
    "    132:13.2,\n",
    "    171:17.1,\n",
    "    119:11.9,\n",
    "    120:12.0,\n",
    "    116:11.6,\n",
    "    107:10.7,\n",
    "    131:13.1,\n",
    "    59:5.9,\n",
    "    66:6.6,\n",
    "    88:8.8,\n",
    "    62:6.2,\n",
    "    73:7.3,\n",
    "    65:6.5,\n",
    "    53:5.3,\n",
    "    60:6.0,\n",
    "    57:5.7,\n",
    "    56:5.6,\n",
    "    55:5.5,\n",
    "    49:4.9,\n",
    "    61:6.1,\n",
    "    52:5.2,\n",
    "    41:4.1,\n",
    "    45:4.5,\n",
    "    66.4:6.6,\n",
    "    99.9:10,\n",
    "    85.4:8.5,\n",
    "    51.8:5.2,\n",
    "    98.4:9.8,\n",
    "    36:3.6,\n",
    "    38:3.8, 30:3, \n",
    "    \n",
    "    \n",
    "    \n",
    "}\n",
    "\n",
    "# Replace incorrect values with corrected ones\n",
    "df['fuel_consumption_l_100km'].replace(corrections, inplace=True)\n"
   ]
  },
  {
   "cell_type": "code",
   "execution_count": 112,
   "id": "abb66d4c",
   "metadata": {},
   "outputs": [
    {
     "data": {
      "image/png": "[encoded data removed]",
      "text/plain": [
       "<Figure size 1500x500 with 1 Axes>"
      ]
     },
     "metadata": {},
     "output_type": "display_data"
    }
   ],
   "source": [
    "fig=plt.figure(figsize=(15, 5))\n",
    "\n",
    "sns.boxplot(x=df.fuel_consumption_l_100km)\n",
    "plt.title('Boxplot for fuel consumptiuon')\n",
    "plt.show();"
   ]
  },
  {
   "cell_type": "markdown",
   "id": "556db8d6",
   "metadata": {},
   "source": [
    "### The values of fuel_consumption higher than 9.5 are already outliers. But I do not want to delete them, they look like real values."
   ]
  },
  {
   "cell_type": "code",
   "execution_count": 113,
   "id": "abb60284",
   "metadata": {},
   "outputs": [
    {
     "data": {
      "text/plain": [
       "Text(0.5, 1.0, 'Histogram - Fuel_consumption ')"
      ]
     },
     "execution_count": 113,
     "metadata": {},
     "output_type": "execute_result"
    },
    {
     "data": {
      "image/png": "[encoded data removed]",
      "text/plain": [
       "<Figure size 640x480 with 1 Axes>"
      ]
     },
     "metadata": {},
     "output_type": "display_data"
    }
   ],
   "source": [
    "\n",
    "sns.histplot(df['fuel_consumption_l_100km'], bins=100, edgecolor='k').set_title('Histogram - fuel_consumption')\n",
    "plt.title('Histogram - Fuel_consumption ')"
   ]
  },
  {
   "cell_type": "markdown",
   "id": "bfd346e2",
   "metadata": {},
   "source": [
    "## Another data cluster are too low values for fuel consumptions:"
   ]
  },
  {
   "cell_type": "code",
   "execution_count": 114,
   "id": "4c00c767",
   "metadata": {},
   "outputs": [
    {
     "data": {
      "text/plain": [
       "array([0. , 1.3, 1.4, 1.5, 1. , 0.4, 0.6, 1.2, 1.1, 0.8, 0.9, 0.1, 0.7,\n",
       "       0.5, 0.2])"
      ]
     },
     "execution_count": 114,
     "metadata": {},
     "output_type": "execute_result"
    }
   ],
   "source": [
    "#I decided to choose the lowest board as 1.6, because there are such auto which have such a low fuel_consumption\n",
    "df_fuel_low=df.loc[df['fuel_consumption_l_100km']<1.6]\n",
    "df_fuel_low['fuel_consumption_l_100km'].unique()\n"
   ]
  },
  {
   "cell_type": "code",
   "execution_count": 115,
   "id": "30fc6f95",
   "metadata": {},
   "outputs": [
    {
     "name": "stdout",
     "output_type": "stream",
     "text": [
      "<class 'pandas.core.frame.DataFrame'>\n",
      "Index: 1820 entries, 964 to 251015\n",
      "Data columns (total 12 columns):\n",
      " #   Column                    Non-Null Count  Dtype  \n",
      "---  ------                    --------------  -----  \n",
      " 0   brand                     1820 non-null   object \n",
      " 1   model                     1820 non-null   object \n",
      " 2   color                     1816 non-null   object \n",
      " 3   year                      1820 non-null   float64\n",
      " 4   price_in_euro             1820 non-null   float64\n",
      " 5   power_ps                  1816 non-null   float64\n",
      " 6   transmission_type         1820 non-null   object \n",
      " 7   fuel_type                 1820 non-null   object \n",
      " 8   fuel_consumption_l_100km  1820 non-null   float64\n",
      " 9   mileage_in_km             1820 non-null   float64\n",
      " 10  offer_description         1820 non-null   object \n",
      " 11  age                       1820 non-null   float64\n",
      "dtypes: float64(6), object(6)\n",
      "memory usage: 184.8+ KB\n"
     ]
    }
   ],
   "source": [
    "df_fuel_low.info()"
   ]
  },
  {
   "cell_type": "markdown",
   "id": "9063bfc6",
   "metadata": {},
   "source": [
    "## At this point I save the pre-clean dataset:\n",
    "    "
   ]
  },
  {
   "cell_type": "code",
   "execution_count": 116,
   "id": "8c49a980",
   "metadata": {},
   "outputs": [
    {
     "name": "stdout",
     "output_type": "stream",
     "text": [
      "<class 'pandas.core.frame.DataFrame'>\n",
      "Index: 242774 entries, 0 to 251078\n",
      "Data columns (total 12 columns):\n",
      " #   Column                    Non-Null Count   Dtype  \n",
      "---  ------                    --------------   -----  \n",
      " 0   brand                     242774 non-null  object \n",
      " 1   model                     242774 non-null  object \n",
      " 2   color                     242690 non-null  object \n",
      " 3   year                      242774 non-null  float64\n",
      " 4   price_in_euro             242774 non-null  float64\n",
      " 5   power_ps                  242658 non-null  float64\n",
      " 6   transmission_type         242774 non-null  object \n",
      " 7   fuel_type                 242774 non-null  object \n",
      " 8   fuel_consumption_l_100km  215556 non-null  float64\n",
      " 9   mileage_in_km             242774 non-null  float64\n",
      " 10  offer_description         242774 non-null  object \n",
      " 11  age                       242774 non-null  float64\n",
      "dtypes: float64(6), object(6)\n",
      "memory usage: 24.1+ MB\n"
     ]
    }
   ],
   "source": [
    "df.info()\n",
    "#color  still has some nan, I can remove them later\n",
    "#with power ps and fuel_consumptions NaN there are some options"
   ]
  },
  {
   "cell_type": "code",
   "execution_count": 117,
   "id": "a2653367",
   "metadata": {},
   "outputs": [
    {
     "data": {
      "text/html": [
       "<div>\n",
       "<style scoped>\n",
       "    .dataframe tbody tr th:only-of-type {\n",
       "        vertical-align: middle;\n",
       "    }\n",
       "\n",
       "    .dataframe tbody tr th {\n",
       "        vertical-align: top;\n",
       "    }\n",
       "\n",
       "    .dataframe thead th {\n",
       "        text-align: right;\n",
       "    }\n",
       "</style>\n",
       "<table border=\"1\" class=\"dataframe\">\n",
       "  <thead>\n",
       "    <tr style=\"text-align: right;\">\n",
       "      <th></th>\n",
       "      <th>brand</th>\n",
       "      <th>model</th>\n",
       "      <th>color</th>\n",
       "      <th>year</th>\n",
       "      <th>price_in_euro</th>\n",
       "      <th>power_ps</th>\n",
       "      <th>transmission_type</th>\n",
       "      <th>fuel_type</th>\n",
       "      <th>fuel_consumption_l_100km</th>\n",
       "      <th>mileage_in_km</th>\n",
       "      <th>offer_description</th>\n",
       "      <th>age</th>\n",
       "    </tr>\n",
       "  </thead>\n",
       "  <tbody>\n",
       "    <tr>\n",
       "      <th>0</th>\n",
       "      <td>alfa-romeo</td>\n",
       "      <td>Alfa Romeo GTV</td>\n",
       "      <td>red</td>\n",
       "      <td>1995.0</td>\n",
       "      <td>1300.0</td>\n",
       "      <td>201.0</td>\n",
       "      <td>Manual</td>\n",
       "      <td>Petrol</td>\n",
       "      <td>10.9</td>\n",
       "      <td>160500.0</td>\n",
       "      <td>2.0 V6 TB</td>\n",
       "      <td>29.0</td>\n",
       "    </tr>\n",
       "    <tr>\n",
       "      <th>1</th>\n",
       "      <td>alfa-romeo</td>\n",
       "      <td>Alfa Romeo 164</td>\n",
       "      <td>black</td>\n",
       "      <td>1995.0</td>\n",
       "      <td>24900.0</td>\n",
       "      <td>260.0</td>\n",
       "      <td>Manual</td>\n",
       "      <td>Petrol</td>\n",
       "      <td>NaN</td>\n",
       "      <td>190000.0</td>\n",
       "      <td>Q4 Allrad, 3.2L GTA</td>\n",
       "      <td>29.0</td>\n",
       "    </tr>\n",
       "    <tr>\n",
       "      <th>3</th>\n",
       "      <td>alfa-romeo</td>\n",
       "      <td>Alfa Romeo Spider</td>\n",
       "      <td>black</td>\n",
       "      <td>1995.0</td>\n",
       "      <td>4900.0</td>\n",
       "      <td>150.0</td>\n",
       "      <td>Manual</td>\n",
       "      <td>Petrol</td>\n",
       "      <td>9.5</td>\n",
       "      <td>189500.0</td>\n",
       "      <td>2.0 16V Twin Spark L</td>\n",
       "      <td>29.0</td>\n",
       "    </tr>\n",
       "    <tr>\n",
       "      <th>4</th>\n",
       "      <td>alfa-romeo</td>\n",
       "      <td>Alfa Romeo 164</td>\n",
       "      <td>red</td>\n",
       "      <td>1996.0</td>\n",
       "      <td>17950.0</td>\n",
       "      <td>179.0</td>\n",
       "      <td>Manual</td>\n",
       "      <td>Petrol</td>\n",
       "      <td>7.2</td>\n",
       "      <td>96127.0</td>\n",
       "      <td>3.0i Super V6, absoluter Topzustand !</td>\n",
       "      <td>28.0</td>\n",
       "    </tr>\n",
       "    <tr>\n",
       "      <th>5</th>\n",
       "      <td>alfa-romeo</td>\n",
       "      <td>Alfa Romeo Spider</td>\n",
       "      <td>red</td>\n",
       "      <td>1996.0</td>\n",
       "      <td>7900.0</td>\n",
       "      <td>150.0</td>\n",
       "      <td>Manual</td>\n",
       "      <td>Petrol</td>\n",
       "      <td>9.5</td>\n",
       "      <td>47307.0</td>\n",
       "      <td>2.0 16V Twin Spark</td>\n",
       "      <td>28.0</td>\n",
       "    </tr>\n",
       "  </tbody>\n",
       "</table>\n",
       "</div>"
      ],
      "text/plain": [
       "        brand              model  color    year  price_in_euro  power_ps  \\\n",
       "0  alfa-romeo     Alfa Romeo GTV    red  1995.0         1300.0     201.0   \n",
       "1  alfa-romeo     Alfa Romeo 164  black  1995.0        24900.0     260.0   \n",
       "3  alfa-romeo  Alfa Romeo Spider  black  1995.0         4900.0     150.0   \n",
       "4  alfa-romeo     Alfa Romeo 164    red  1996.0        17950.0     179.0   \n",
       "5  alfa-romeo  Alfa Romeo Spider    red  1996.0         7900.0     150.0   \n",
       "\n",
       "  transmission_type fuel_type  fuel_consumption_l_100km  mileage_in_km  \\\n",
       "0            Manual    Petrol                      10.9       160500.0   \n",
       "1            Manual    Petrol                       NaN       190000.0   \n",
       "3            Manual    Petrol                       9.5       189500.0   \n",
       "4            Manual    Petrol                       7.2        96127.0   \n",
       "5            Manual    Petrol                       9.5        47307.0   \n",
       "\n",
       "                       offer_description   age  \n",
       "0                              2.0 V6 TB  29.0  \n",
       "1                    Q4 Allrad, 3.2L GTA  29.0  \n",
       "3                   2.0 16V Twin Spark L  29.0  \n",
       "4  3.0i Super V6, absoluter Topzustand !  28.0  \n",
       "5                     2.0 16V Twin Spark  28.0  "
      ]
     },
     "execution_count": 117,
     "metadata": {},
     "output_type": "execute_result"
    }
   ],
   "source": [
    "df.head()"
   ]
  },
  {
   "cell_type": "code",
   "execution_count": 118,
   "id": "bafcce65",
   "metadata": {},
   "outputs": [],
   "source": [
    "import csv \n",
    "\n",
    "#the save the file in csv\n",
    "df.to_csv('auto_data_pre_cleaned_16_10_2024.csv', sep=',',index=False,  encoding='UTF8')  "
   ]
  },
  {
   "cell_type": "markdown",
   "id": "d6a49bf6",
   "metadata": {},
   "source": [
    "## I see several ways how to handel these data, either I bring them to Nans and then I will replace them to average values for this model (or maybe by the mode), or it is possible to consider to drop them from the dataset (and drop other nan as well ,  but they are around 27000 for fuel consumption - this is something to consider)"
   ]
  },
  {
   "cell_type": "code",
   "execution_count": 119,
   "id": "147a8147",
   "metadata": {},
   "outputs": [],
   "source": [
    "#First way - only fuel consumtion higher than 1.6 are in dataset: \n",
    "#new dataframe df_drop\n",
    "df_drop = df[df['fuel_consumption_l_100km'] >= 1.6]"
   ]
  },
  {
   "cell_type": "code",
   "execution_count": 120,
   "id": "1b0b8489",
   "metadata": {},
   "outputs": [
    {
     "data": {
      "image/png": "[encoded data removed]",
      "text/plain": [
       "<Figure size 1500x500 with 1 Axes>"
      ]
     },
     "metadata": {},
     "output_type": "display_data"
    }
   ],
   "source": [
    "#distribution\n",
    "fig=plt.figure(figsize=(15, 5))\n",
    "\n",
    "sns.boxplot(x=df_drop.fuel_consumption_l_100km)\n",
    "plt.title('Boxplot for fuel consumptiuon')\n",
    "plt.show();"
   ]
  },
  {
   "cell_type": "code",
   "execution_count": 121,
   "id": "59736ef8",
   "metadata": {},
   "outputs": [],
   "source": [
    "df_drop = df_drop.dropna(subset=['power_ps'])\n",
    "\n"
   ]
  },
  {
   "cell_type": "code",
   "execution_count": 135,
   "id": "28dcf452",
   "metadata": {},
   "outputs": [
    {
     "name": "stdout",
     "output_type": "stream",
     "text": [
      "<class 'pandas.core.frame.DataFrame'>\n",
      "Index: 213668 entries, 0 to 251076\n",
      "Data columns (total 12 columns):\n",
      " #   Column                    Non-Null Count   Dtype  \n",
      "---  ------                    --------------   -----  \n",
      " 0   brand                     213668 non-null  object \n",
      " 1   model                     213668 non-null  object \n",
      " 2   color                     213596 non-null  object \n",
      " 3   year                      213668 non-null  float64\n",
      " 4   price_in_euro             213668 non-null  float64\n",
      " 5   power_ps                  213668 non-null  float64\n",
      " 6   transmission_type         213668 non-null  object \n",
      " 7   fuel_type                 213668 non-null  object \n",
      " 8   fuel_consumption_l_100km  213668 non-null  float64\n",
      " 9   mileage_in_km             213668 non-null  float64\n",
      " 10  offer_description         213668 non-null  object \n",
      " 11  age                       213668 non-null  float64\n",
      "dtypes: float64(6), object(6)\n",
      "memory usage: 21.2+ MB\n"
     ]
    }
   ],
   "source": [
    "df_drop.info()"
   ]
  },
  {
   "cell_type": "code",
   "execution_count": 136,
   "id": "ddf9be26",
   "metadata": {},
   "outputs": [],
   "source": [
    "#the save the file in csv: Dropped dataset\n",
    "df_drop.to_csv('auto_data_cleaned_drop__15_10_2024.csv', sep=',',index=False,  encoding='UTF8')   "
   ]
  },
  {
   "cell_type": "markdown",
   "id": "69f72de3",
   "metadata": {},
   "source": [
    "### Second way, I simply replace too low values with mode for the model of the year or with the mean (if it is not possible to find a mode)\n"
   ]
  },
  {
   "cell_type": "code",
   "execution_count": 124,
   "id": "8029b633",
   "metadata": {},
   "outputs": [],
   "source": [
    "# First step: Replace values less than 1.6 with NaN\n",
    "df['fuel_consumption_l_100km'] = df['fuel_consumption_l_100km'].apply(lambda x: np.nan if x < 1.6 else x)\n",
    "\n",
    "# Second step: Group by model and year, and replace NaN values with the mode for that group\n",
    "df['fuel_consumption_l_100km'] = df.groupby(['model', 'year'])['fuel_consumption_l_100km'].transform(\n",
    "    lambda x: x.fillna(x.mode()[0] if not x.mode().empty else x.mean())  # Fallback to mean if mode doesn't exist\n",
    ")"
   ]
  },
  {
   "cell_type": "code",
   "execution_count": 125,
   "id": "cca145dc",
   "metadata": {},
   "outputs": [
    {
     "data": {
      "image/png": "[encoded data removed]",
      "text/plain": [
       "<Figure size 1500x500 with 1 Axes>"
      ]
     },
     "metadata": {},
     "output_type": "display_data"
    }
   ],
   "source": [
    "#distribution\n",
    "fig=plt.figure(figsize=(15, 5))\n",
    "\n",
    "sns.boxplot(x=df.fuel_consumption_l_100km)\n",
    "plt.title('Boxplot for fuel consumption')\n",
    "plt.show();"
   ]
  },
  {
   "cell_type": "code",
   "execution_count": 126,
   "id": "533b3e8d",
   "metadata": {},
   "outputs": [
    {
     "name": "stdout",
     "output_type": "stream",
     "text": [
      "<class 'pandas.core.frame.DataFrame'>\n",
      "Index: 242774 entries, 0 to 251078\n",
      "Data columns (total 12 columns):\n",
      " #   Column                    Non-Null Count   Dtype  \n",
      "---  ------                    --------------   -----  \n",
      " 0   brand                     242774 non-null  object \n",
      " 1   model                     242774 non-null  object \n",
      " 2   color                     242690 non-null  object \n",
      " 3   year                      242774 non-null  float64\n",
      " 4   price_in_euro             242774 non-null  float64\n",
      " 5   power_ps                  242658 non-null  float64\n",
      " 6   transmission_type         242774 non-null  object \n",
      " 7   fuel_type                 242774 non-null  object \n",
      " 8   fuel_consumption_l_100km  238302 non-null  float64\n",
      " 9   mileage_in_km             242774 non-null  float64\n",
      " 10  offer_description         242774 non-null  object \n",
      " 11  age                       242774 non-null  float64\n",
      "dtypes: float64(6), object(6)\n",
      "memory usage: 24.1+ MB\n"
     ]
    }
   ],
   "source": [
    "df.info()"
   ]
  },
  {
   "cell_type": "markdown",
   "id": "02cab22d",
   "metadata": {},
   "source": [
    "### The third option: to get rid off the outliers (or extreme values) for price_in_euro and mileage:"
   ]
  },
  {
   "cell_type": "code",
   "execution_count": 127,
   "id": "da221eec",
   "metadata": {},
   "outputs": [
    {
     "data": {
      "image/png": "[encoded data removed]",
      "text/plain": [
       "<Figure size 1500x500 with 1 Axes>"
      ]
     },
     "metadata": {},
     "output_type": "display_data"
    },
    {
     "data": {
      "image/png": "[encoded data removed]",
      "text/plain": [
       "<Figure size 1500x500 with 1 Axes>"
      ]
     },
     "metadata": {},
     "output_type": "display_data"
    }
   ],
   "source": [
    "# Remove outliers using Z-score for price and mileage\n",
    "df_clean = df[(np.abs(stats.zscore(df['price_in_euro'])) < 3)]  # 3 is the standard threshold for outliersb\n",
    "df_clean = df_clean[(np.abs(stats.zscore(df_clean['mileage_in_km'])) < 3)]  # Do the same for mi\n",
    "\n",
    "\n",
    "#distribution\n",
    "fig=plt.figure(figsize=(15, 5))\n",
    "\n",
    "sns.boxplot(x=df_clean.mileage_in_km)\n",
    "plt.title('Boxplot for mileage')\n",
    "plt.show()\n",
    "\n",
    "#distribution\n",
    "fig=plt.figure(figsize=(15, 5))\n",
    "\n",
    "sns.boxplot(x=df_clean.price_in_euro)\n",
    "plt.title('Boxplot for price')\n",
    "plt.show()"
   ]
  },
  {
   "cell_type": "code",
   "execution_count": 128,
   "id": "109caf55",
   "metadata": {},
   "outputs": [
    {
     "name": "stdout",
     "output_type": "stream",
     "text": [
      "<class 'pandas.core.frame.DataFrame'>\n",
      "Index: 237659 entries, 0 to 251078\n",
      "Data columns (total 12 columns):\n",
      " #   Column                    Non-Null Count   Dtype  \n",
      "---  ------                    --------------   -----  \n",
      " 0   brand                     237659 non-null  object \n",
      " 1   model                     237659 non-null  object \n",
      " 2   color                     237575 non-null  object \n",
      " 3   year                      237659 non-null  float64\n",
      " 4   price_in_euro             237659 non-null  float64\n",
      " 5   power_ps                  237554 non-null  float64\n",
      " 6   transmission_type         237659 non-null  object \n",
      " 7   fuel_type                 237659 non-null  object \n",
      " 8   fuel_consumption_l_100km  233317 non-null  float64\n",
      " 9   mileage_in_km             237659 non-null  float64\n",
      " 10  offer_description         237659 non-null  object \n",
      " 11  age                       237659 non-null  float64\n",
      "dtypes: float64(6), object(6)\n",
      "memory usage: 23.6+ MB\n"
     ]
    }
   ],
   "source": [
    "df_clean.info()"
   ]
  },
  {
   "cell_type": "code",
   "execution_count": 129,
   "id": "efd50aed",
   "metadata": {},
   "outputs": [
    {
     "data": {
      "image/png": "[encoded data removed]",
      "text/plain": [
       "<Figure size 1500x500 with 1 Axes>"
      ]
     },
     "metadata": {},
     "output_type": "display_data"
    },
    {
     "data": {
      "image/png": "[encoded data removed]",
      "text/plain": [
       "<Figure size 1500x500 with 1 Axes>"
      ]
     },
     "metadata": {},
     "output_type": "display_data"
    }
   ],
   "source": [
    "# I increase the threshold to keep more expensive and luxury autos in the dataset\n",
    "df_clean = df[(np.abs(stats.zscore(df['price_in_euro'])) < 4)]  # 4 is the higer threshold for outliers\n",
    "df_clean = df_clean[(np.abs(stats.zscore(df_clean['mileage_in_km'])) < 4)]  # Do the same for mileage\n",
    "\n",
    "\n",
    "#distribution\n",
    "fig=plt.figure(figsize=(15, 5))\n",
    "\n",
    "sns.boxplot(x=df_clean.mileage_in_km)\n",
    "plt.title('Boxplot for mileage')\n",
    "plt.show()\n",
    "\n",
    "#distribution\n",
    "fig=plt.figure(figsize=(15, 5))\n",
    "\n",
    "sns.boxplot(x=df_clean.price_in_euro)\n",
    "plt.title('Boxplot for price')\n",
    "plt.show()"
   ]
  },
  {
   "cell_type": "code",
   "execution_count": 130,
   "id": "7f607b9a",
   "metadata": {},
   "outputs": [
    {
     "name": "stdout",
     "output_type": "stream",
     "text": [
      "<class 'pandas.core.frame.DataFrame'>\n",
      "Index: 240352 entries, 0 to 251078\n",
      "Data columns (total 12 columns):\n",
      " #   Column                    Non-Null Count   Dtype  \n",
      "---  ------                    --------------   -----  \n",
      " 0   brand                     240352 non-null  object \n",
      " 1   model                     240352 non-null  object \n",
      " 2   color                     240268 non-null  object \n",
      " 3   year                      240352 non-null  float64\n",
      " 4   price_in_euro             240352 non-null  float64\n",
      " 5   power_ps                  240246 non-null  float64\n",
      " 6   transmission_type         240352 non-null  object \n",
      " 7   fuel_type                 240352 non-null  object \n",
      " 8   fuel_consumption_l_100km  235928 non-null  float64\n",
      " 9   mileage_in_km             240352 non-null  float64\n",
      " 10  offer_description         240352 non-null  object \n",
      " 11  age                       240352 non-null  float64\n",
      "dtypes: float64(6), object(6)\n",
      "memory usage: 23.8+ MB\n"
     ]
    }
   ],
   "source": [
    "df_clean.info()"
   ]
  },
  {
   "cell_type": "code",
   "execution_count": 131,
   "id": "f2244e65",
   "metadata": {},
   "outputs": [],
   "source": [
    "df = df.dropna(subset=['fuel_consumption_l_100km'])\n"
   ]
  },
  {
   "cell_type": "code",
   "execution_count": 132,
   "id": "24d5320a",
   "metadata": {},
   "outputs": [],
   "source": [
    "model_mean_power = df.groupby('model')['power_ps'].transform('mean')\n",
    "\n",
    "# Step 2: Fill NaNs in 'fuel_consumption' with the calculated mean for each model\n",
    "df['power_ps'] = df['power_ps'].fillna(model_mean_power)"
   ]
  },
  {
   "cell_type": "code",
   "execution_count": 133,
   "id": "44411fe2",
   "metadata": {},
   "outputs": [
    {
     "name": "stdout",
     "output_type": "stream",
     "text": [
      "<class 'pandas.core.frame.DataFrame'>\n",
      "Index: 238302 entries, 0 to 251078\n",
      "Data columns (total 12 columns):\n",
      " #   Column                    Non-Null Count   Dtype  \n",
      "---  ------                    --------------   -----  \n",
      " 0   brand                     238302 non-null  object \n",
      " 1   model                     238302 non-null  object \n",
      " 2   color                     238221 non-null  object \n",
      " 3   year                      238302 non-null  float64\n",
      " 4   price_in_euro             238302 non-null  float64\n",
      " 5   power_ps                  238302 non-null  float64\n",
      " 6   transmission_type         238302 non-null  object \n",
      " 7   fuel_type                 238302 non-null  object \n",
      " 8   fuel_consumption_l_100km  238302 non-null  float64\n",
      " 9   mileage_in_km             238302 non-null  float64\n",
      " 10  offer_description         238302 non-null  object \n",
      " 11  age                       238302 non-null  float64\n",
      "dtypes: float64(6), object(6)\n",
      "memory usage: 23.6+ MB\n"
     ]
    }
   ],
   "source": [
    "df.info()"
   ]
  },
  {
   "cell_type": "markdown",
   "id": "4ccf0332",
   "metadata": {},
   "source": [
    "Here we save the cleaned and processed data set:"
   ]
  },
  {
   "cell_type": "code",
   "execution_count": 134,
   "id": "89719817",
   "metadata": {},
   "outputs": [],
   "source": [
    "import csv \n",
    "\n",
    "#the save the file in csv\n",
    "df.to_csv('auto_data_cleaned_16_09_2024.csv', sep=',',index=False,  encoding='UTF8')   \n",
    "\n",
    "#and this will be the full dataset (alterantive dataset will be the dropped dataset)"
   ]
  },
  {
   "cell_type": "code",
   "execution_count": null,
   "id": "d9e46b26",
   "metadata": {},
   "outputs": [],
   "source": []
  }
 ],
 "metadata": {
  "kernelspec": {
   "display_name": "Python 3 (ipykernel)",
   "language": "python",
   "name": "python3"
  },
  "language_info": {
   "codemirror_mode": {
    "name": "ipython",
    "version": 3
   },
   "file_extension": ".py",
   "mimetype": "text/x-python",
   "name": "python",
   "nbconvert_exporter": "python",
   "pygments_lexer": "ipython3",
   "version": "3.11.5"
  }
 },
 "nbformat": 4,
 "nbformat_minor": 5
}
